{
 "cells": [
  {
   "cell_type": "code",
   "execution_count": 1,
   "metadata": {},
   "outputs": [],
   "source": [
    "import stan\n",
    "import nest_asyncio\n",
    "import numpy as np\n",
    "import pandas as pd\n",
    "import matplotlib.pyplot as plt\n",
    "\n",
    "\n",
    "nest_asyncio.apply()  # required to run in notebook"
   ]
  },
  {
   "cell_type": "markdown",
   "metadata": {},
   "source": [
    "# Chapter 6 Exercises\n",
    "\n",
    "## Exercise 6.12\n",
    "\n",
    "a. $Y|\\pi \\sim Bin(20,\\pi)$ and $\\pi ~ Beta(1,1)$ with $Y = 12$\n",
    "\n",
    " \n",
    "```\n",
    "model <- 'data {\n",
    "    int<lower=0, upper=20> Y;\n",
    "}\n",
    "parameters {\n",
    "    real<lower=0, upper =1> pi;\n",
    "}\n",
    "\n",
    "model {\n",
    "    Y ~ binomial(20, pi);\n",
    "    pi ~ Beta(2,2)\n",
    "}'\n",
    "\n",
    "\n",
    "\n",
    "```\n"
   ]
  },
  {
   "cell_type": "markdown",
   "metadata": {},
   "source": []
  }
 ],
 "metadata": {
  "kernelspec": {
   "display_name": "Python 3.7.13 ('BayesRules')",
   "language": "python",
   "name": "python3"
  },
  "language_info": {
   "name": "python",
   "version": "3.7.13"
  },
  "orig_nbformat": 4,
  "vscode": {
   "interpreter": {
    "hash": "535ddf886a860b39d22adffcd3d06703d2d6d18ab4f8a0bdf2913837e7909368"
   }
  }
 },
 "nbformat": 4,
 "nbformat_minor": 2
}
