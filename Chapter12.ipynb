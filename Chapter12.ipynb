{
  "cells": [
    {
      "cell_type": "markdown",
      "metadata": {},
      "source": [
        "## Chapter 12 exercises.\n",
        "\n",
        "* testing out doing this as QMD instead of IPYNB. Not sure how well it will work though!\n"
      ]
    },
    {
      "cell_type": "code",
      "metadata": {},
      "source": [
        "import arviz as az\n",
        "import pandas as pd\n",
        "import matplotlib.pyplot as plt\n",
        "import numpy as np\n",
        "import pymc as pm\n",
        "import bambi as bmb\n",
        "import seaborn as sns"
      ],
      "execution_count": null,
      "outputs": []
    },
    {
      "cell_type": "code",
      "metadata": {},
      "source": [
        "eagles = pd.read_csv('bald_eagles.csv')\n",
        "eagles.head()"
      ],
      "execution_count": null,
      "outputs": []
    },
    {
      "cell_type": "code",
      "metadata": {},
      "source": [
        "eagles.describe()"
      ],
      "execution_count": null,
      "outputs": []
    },
    {
      "cell_type": "markdown",
      "metadata": {},
      "source": [
        "### Exercise 12.5\n",
        "\n",
        "a) Look at count independant of the rest"
      ]
    },
    {
      "cell_type": "code",
      "metadata": {},
      "source": [
        "sns.histplot(eagles['count'])"
      ],
      "execution_count": null,
      "outputs": []
    },
    {
      "cell_type": "markdown",
      "metadata": {},
      "source": [
        "b) Count vs year\n"
      ]
    },
    {
      "cell_type": "code",
      "metadata": {},
      "source": [
        "sns.scatterplot(data = eagles, x =  'year', y= 'count')"
      ],
      "execution_count": null,
      "outputs": []
    },
    {
      "cell_type": "markdown",
      "metadata": {},
      "source": [
        "It does appear that the variance gets bigger as years go on, so a poissoin distribution could be tried.\n",
        "\n",
        "c) Observation periods vary from year to year, from 134 to 248 hours. "
      ]
    },
    {
      "cell_type": "code",
      "metadata": {},
      "source": [
        "sns.scatterplot(data = eagles, x =  'year', y= 'hours')"
      ],
      "execution_count": null,
      "outputs": []
    },
    {
      "cell_type": "markdown",
      "metadata": {},
      "source": [
        "It looks like the spread in hours is rather uniform, but also that there is a jump around 2004, so that it is not independant of the year."
      ]
    },
    {
      "cell_type": "code",
      "metadata": {},
      "source": [
        "sns.scatterplot(data = eagles, x =  'hours', y= 'count')"
      ],
      "execution_count": null,
      "outputs": []
    },
    {
      "cell_type": "markdown",
      "metadata": {},
      "source": [
        "This tells us that hours have an (expected!) effect on the counts, so we will need to include (control for) that in our models.\n",
        "\n",
        "### Exercise 12.7\n"
      ]
    },
    {
      "cell_type": "code",
      "metadata": {},
      "source": [
        "model1 = bmb.Model('count ~ year + hours', eagles, family='poisson')\n",
        "model1.build()\n",
        "model1.plot_priors()"
      ],
      "execution_count": null,
      "outputs": []
    },
    {
      "cell_type": "markdown",
      "metadata": {},
      "source": [
        ":::{.callout-tip}\n",
        "## Quarto issue\n",
        "\n",
        "Needs cores=1 to avoid broken pipe error. Works fine in a notebook. Wierd!\n",
        ":::"
      ]
    },
    {
      "cell_type": "code",
      "metadata": {},
      "source": [
        "results1 = model1.fit(draws=10000, chains=4,cores=1)\n",
        "az.plot_trace(results1)\n",
        "az.summary(results1)"
      ],
      "execution_count": null,
      "outputs": []
    },
    {
      "cell_type": "markdown",
      "metadata": {},
      "source": [
        "Diagnostics look good, so moving on to look at the posterior check>"
      ]
    },
    {
      "cell_type": "code",
      "metadata": {},
      "source": [
        "model1.predict(results1, kind='pps', inplace= True)\n",
        "az.plot_ppc(results1, num_pp_samples = 30)"
      ],
      "execution_count": null,
      "outputs": []
    },
    {
      "cell_type": "markdown",
      "metadata": {},
      "source": [
        "This looks quite good to me.\n",
        "\n",
        "\n",
        "### Exercise 12.8"
      ]
    },
    {
      "cell_type": "code",
      "metadata": {},
      "source": [
        "model2 = bmb.Model('count ~ year + hours', eagles, family='negativebinomial')\n",
        "model2.build()\n",
        "model2 "
      ],
      "execution_count": null,
      "outputs": []
    },
    {
      "cell_type": "code",
      "metadata": {},
      "source": [
        "model2.plot_priors()"
      ],
      "execution_count": null,
      "outputs": []
    },
    {
      "cell_type": "markdown",
      "metadata": {},
      "source": [
        "I am not too sure what bambi is doing with `alpha` prior here, so once again i will use my own exponential prior\n"
      ]
    },
    {
      "cell_type": "code",
      "metadata": {},
      "source": [
        "alpha_prior = bmb.Prior('Exponential', lam= 1/50.)\n",
        "model2 = bmb.Model('count ~ year + hours', eagles, family='negativebinomial',priors = {'alpha': alpha_prior})\n",
        "model2.build()\n",
        "model2 "
      ],
      "execution_count": null,
      "outputs": []
    },
    {
      "cell_type": "code",
      "metadata": {},
      "source": [
        "model2.plot_priors()"
      ],
      "execution_count": null,
      "outputs": []
    },
    {
      "cell_type": "code",
      "metadata": {},
      "source": [
        "results2 = model2.fit(draws=10000, chains=4,cores=1)\n",
        "az.plot_trace(results2)\n",
        "az.summary(results2)"
      ],
      "execution_count": null,
      "outputs": []
    },
    {
      "cell_type": "markdown",
      "metadata": {},
      "source": [
        "Diagnostics look good, so moving on to look at the posterior check>"
      ]
    },
    {
      "cell_type": "code",
      "metadata": {},
      "source": [
        "model2.predict(results2, kind='pps', inplace= True)\n",
        "az.plot_ppc(results2, num_pp_samples = 30)"
      ],
      "execution_count": null,
      "outputs": []
    },
    {
      "cell_type": "markdown",
      "metadata": {},
      "source": [
        "Not sure it was worth all that extra trouble. Perhaps I am missing something,  because the count has a mean that is close to the standard deviation (across all years and hours). \n",
        "\n",
        "Based on this year and hours are both significant, but year is clearly the stronger predictor. \n",
        "\n",
        "Lets grab the raw samples so i can compute directly the quantile for the year coefficient.\n"
      ]
    },
    {
      "cell_type": "code",
      "metadata": {},
      "source": [
        "year_coeff_samples = results2.posterior.year.values.flatten()\n",
        "np.quantile(year_coeff_samples,[.025,.975])"
      ],
      "execution_count": null,
      "outputs": []
    },
    {
      "cell_type": "markdown",
      "metadata": {},
      "source": [
        "This tells us that , controlling for number of observation hours, we do have ample evidence that eagle sitings have increased over the years, on average by 8% a year:"
      ]
    },
    {
      "cell_type": "code",
      "metadata": {},
      "source": [
        "np.exp(np.mean(year_coeff_samples))-1.0"
      ],
      "execution_count": null,
      "outputs": []
    },
    {
      "cell_type": "markdown",
      "metadata": {},
      "source": [
        "#### Ok i am going to redo this using `pymc` direct"
      ]
    },
    {
      "cell_type": "code",
      "metadata": {},
      "source": [
        "with pm.Model() as negBin:\n",
        "\n",
        "    # define priors, weakly informative Normal\n",
        "    b0 = pm.Normal(\"Intercept\", mu=0, sigma=500)\n",
        "    b1 = pm.Normal(\"year\", mu=0, sigma=.3)\n",
        "    b2 = pm.Normal(\"hours\", mu=0, sigma=.1)\n",
        "   # alpha = pm.Exponential(\"alpha\",lam = 1/50.  )\n",
        "\n",
        "    # define linear model and exp link function\n",
        "    theta = (\n",
        "        b0\n",
        "        + b1 * eagles[\"year\"].values\n",
        "        + b2 * eagles[\"hours\"].values\n",
        "    )\n",
        "\n",
        "\n",
        "    ## Define Poisson likelihood\n",
        "    y = pm.Poisson(\"y\", mu=pm.math.exp(theta), observed=eagles[\"count\"].values)"
      ],
      "execution_count": null,
      "outputs": []
    },
    {
      "cell_type": "code",
      "metadata": {},
      "source": [
        "with negBin:\n",
        "    samples = pm.sample(cores=2)"
      ],
      "execution_count": null,
      "outputs": []
    },
    {
      "cell_type": "code",
      "metadata": {},
      "source": [
        "az.plot_trace(samples);"
      ],
      "execution_count": null,
      "outputs": []
    },
    {
      "cell_type": "markdown",
      "metadata": {},
      "source": [
        "### Exercise 12.9"
      ]
    }
  ],
  "metadata": {
    "kernelspec": {
      "name": "python3",
      "language": "python",
      "display_name": "Python 3 (ipykernel)"
    }
  },
  "nbformat": 4,
  "nbformat_minor": 4
}