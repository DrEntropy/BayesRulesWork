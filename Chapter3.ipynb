{
 "cells": [
  {
   "cell_type": "code",
   "execution_count": 10,
   "id": "7cefe6da",
   "metadata": {},
   "outputs": [],
   "source": [
    "import numpy as np\n",
    "import pandas as pd\n",
    "from scipy.stats import binom, beta\n",
    "from scipy.optimize import minimize\n",
    "from numpy.random import default_rng\n",
    "import matplotlib.pyplot as plt"
   ]
  },
  {
   "cell_type": "code",
   "execution_count": 15,
   "id": "e217484e",
   "metadata": {},
   "outputs": [],
   "source": [
    "def plotBeta(a,b):\n",
    "    fig, ax = plt.subplots(1, 1)\n",
    "    (mean, var) = beta.stats(a,b)\n",
    "    mode = (a-1)/(a+b -2)\n",
    "    print(f\"mean:{mean}, var:{var}, mode:{mode}\")\n",
    "    x = np.linspace(0, 1, 100)\n",
    "    ax.plot(x, beta.pdf(x, a, b),\n",
    "       'r-', lw=5, alpha=0.6, label='beta pdf')"
   ]
  },
  {
   "cell_type": "code",
   "execution_count": 16,
   "id": "c4aac81e",
   "metadata": {},
   "outputs": [
    {
     "name": "stdout",
     "output_type": "stream",
     "text": [
      "mean:0.5, var:0.022727272727272728, mode:0.5\n"
     ]
    },
    {
     "data": {
      "image/png": "[encoded data removed]",
      "text/plain": [
       "<Figure size 432x288 with 1 Axes>"
      ]
     },
     "metadata": {
      "needs_background": "light"
     },
     "output_type": "display_data"
    }
   ],
   "source": [
    "plotBeta(5,5)"
   ]
  },
  {
   "cell_type": "markdown",
   "id": "88ae370d",
   "metadata": {},
   "source": [
    "## Excercise 3.8\n",
    "\n",
    "The beta pdf is:\n",
    "\n",
    "$$ f(\\pi)=\\frac{\\Gamma(\\alpha + \\beta)}{\\Gamma(\\alpha)\\Gamma(\\beta)}\\pi^{\\alpha-1} (1-\\pi)^{\\beta-1} $$"
   ]
  },
  {
   "cell_type": "markdown",
   "id": "c28cf082",
   "metadata": {},
   "source": [
    "the mean is computed from \n",
    "\n",
    "$$ E(\\pi) =  \\int{\\pi f(\\pi)} = \\int{\\frac{\\Gamma(\\alpha + \\beta)}{\\Gamma(\\alpha)\\Gamma(\\beta)}\\pi^{\\alpha} (1-\\pi)^{\\beta-1}} $$\n",
    "\n",
    "This is almost the same as the normalization for Beta(alpha+1, beta):\n",
    "$$\\int{\\frac{\\Gamma(\\alpha + \\beta + 1)}{\\Gamma(\\alpha + 1)\\Gamma(\\beta)}\\pi^{\\alpha} (1-\\pi)^{\\beta-1}} = 1 $$\n",
    "\n",
    "Using this we find \n",
    "\n",
    "$$ E(\\pi) = \\frac{\\Gamma(\\alpha + \\beta) \\Gamma(\\alpha+1)}{\\Gamma(\\alpha)\\Gamma(\\alpha + \\beta + 1)} $$"
   ]
  },
  {
   "cell_type": "markdown",
   "id": "5710041d",
   "metadata": {},
   "source": [
    "Using the property $\\Gamma(z + 1) = z \\Gamma(z)$ yields finally:\n",
    "$$ E(\\pi) = \\frac{\\alpha}{\\alpha + \\beta} $$"
   ]
  },
  {
   "cell_type": "markdown",
   "id": "39fd1f23",
   "metadata": {},
   "source": [
    "To find the mode, we just find the maximum, setting the derivative of $f(\\pi)$ to zero:\n",
    "\n",
    "$$ (\\alpha -1) \\pi^{\\alpha-2} (1-\\pi)^{\\beta-1} - (\\beta-1) \\pi^{\\alpha-1} (1-\\pi)^{\\beta-2} = 0 $$\n",
    "\n",
    "Multipy through by $\\pi^{1-\\alpha} (1-\\pi)^{1-\\beta} $ :\n",
    "\n",
    "$$ (\\alpha -1) \\pi^{-1} - (\\beta-1)   (1-\\pi)^{-1} = 0 $$\n",
    "\n",
    "solve for $\\pi$:\n",
    "\n",
    "$$ (\\alpha -1) (1-\\pi)  - (\\beta-1)    \\pi  = 0 $$\n",
    "\n",
    "$$ (\\alpha -1) - (\\alpha+ \\beta)\\pi + 2 \\pi = 0 $$\n",
    "\n",
    "$$ \\pi = \\frac{\\alpha - 1}{\\alpha + \\beta -2} $$\n",
    "\n",
    " \n",
    "\n",
    "\n",
    "\n",
    "\n",
    "I am going to skip the variance, i can see how it is done but it will be tedious."
   ]
  },
  {
   "cell_type": "markdown",
   "id": "26f5ed20",
   "metadata": {},
   "source": [
    "# Excercise 3.11\n",
    "Exercise 3.11 (Regular bike ridership) A university wants to know what proportion of students are regular bike riders,  \n",
    "π\n",
    " , so that they can install an appropriate number of bike racks. Since the university is in sunny Southern California, staff think that  \n",
    "π\n",
    "  has a mean of 1 in 4 students, and a mode of 5/22.\n",
    "  \n",
    "a) Specify and plot a Beta model that reflects the staff’s prior ideas about  \n",
    "π.\n",
    "\n",
    "\n",
    "b) Among 50 surveyed students, 15 are regular bike riders. What is the posterior model for  \n",
    "π?\n",
    "\n",
    "c) What is the mean, mode, and standard deviation of the posterior model?\n",
    "\n",
    "d) Does the posterior model more closely reflect the prior information or the data? Explain your reasoning."
   ]
  },
  {
   "cell_type": "markdown",
   "id": "9a360372",
   "metadata": {},
   "source": [
    "a ) mean is 1/4 and mode is 5/22 .  By guesswork i get $\\alpha = 6$ and $\\beta = 18$  "
   ]
  },
  {
   "cell_type": "code",
   "execution_count": 17,
   "id": "f02d9d80",
   "metadata": {},
   "outputs": [
    {
     "name": "stdout",
     "output_type": "stream",
     "text": [
      "mean:0.25, var:0.0075, mode:0.22727272727272727\n"
     ]
    },
    {
     "data": {
      "image/png": "[encoded data removed]",
      "text/plain": [
       "<Figure size 432x288 with 1 Axes>"
      ]
     },
     "metadata": {
      "needs_background": "light"
     },
     "output_type": "display_data"
    }
   ],
   "source": [
    "plotBeta(6,18)"
   ]
  },
  {
   "cell_type": "markdown",
   "id": "d490764d",
   "metadata": {},
   "source": [
    "b) 50 students surveyed, 15 are regular riders, so teh posterior is :\n",
    "Beta(6+15, 18+(50-15)) = Beta(21,53)"
   ]
  },
  {
   "cell_type": "code",
   "execution_count": 18,
   "id": "8a9fc2fc",
   "metadata": {},
   "outputs": [
    {
     "name": "stdout",
     "output_type": "stream",
     "text": [
      "mean:0.28378378378378377, var:0.002710007304601899, mode:0.2777777777777778\n"
     ]
    },
    {
     "data": {
      "image/png": "[encoded data removed]",
      "text/plain": [
       "<Figure size 432x288 with 1 Axes>"
      ]
     },
     "metadata": {
      "needs_background": "light"
     },
     "output_type": "display_data"
    }
   ],
   "source": [
    "plotBeta(21,53)"
   ]
  },
  {
   "cell_type": "markdown",
   "id": "812373cd",
   "metadata": {},
   "source": [
    "c) see above\n"
   ]
  },
  {
   "cell_type": "markdown",
   "id": "d204e88a",
   "metadata": {},
   "source": [
    "d). The prior definatly influeces the posteirior here, since only 50 were surveyed and the prior is quite strong. consider the uniform prior ($\\alpha = \\beta = 1$)."
   ]
  },
  {
   "cell_type": "code",
   "execution_count": 19,
   "id": "45d70967",
   "metadata": {},
   "outputs": [
    {
     "name": "stdout",
     "output_type": "stream",
     "text": [
      "mean:0.3076923076923077, var:0.00401920285809981, mode:0.3\n"
     ]
    },
    {
     "data": {
      "image/png": "[encoded data removed]",
      "text/plain": [
       "<Figure size 432x288 with 1 Axes>"
      ]
     },
     "metadata": {
      "needs_background": "light"
     },
     "output_type": "display_data"
    }
   ],
   "source": [
    "plotBeta(16,36)"
   ]
  },
  {
   "cell_type": "markdown",
   "id": "2732120f",
   "metadata": {},
   "source": [
    "So looks like the prior has more impact here on the uncertainty. Interesting"
   ]
  },
  {
   "cell_type": "markdown",
   "id": "ed61371b",
   "metadata": {},
   "source": [
    "## Excercise 3.13\n",
    "\n",
    " (Knowing someone who is transgender) A September 2016 Pew Research survey found that 30% of U.S. adults are aware that they know someone who is transgender.30 It is now the 2020s, and Sylvia believes that the current percent of people who know someone who is transgender,  \n",
    "π\n",
    " , has increased to somewhere between 35% and 60%.\n",
    " \n",
    "a) Identify and plot a Beta model that reflects Sylvia’s prior ideas about  \n",
    "π.\n",
    " \n",
    "b) Sylvia wants to update her prior, so she randomly selects 200 US adults and 80 of them are aware that they know someone who is transgender. Specify and plot the posterior model for  \n",
    "π .\n",
    "\n",
    "c) What is the mean, mode, and standard deviation of the posterior model?\n",
    "\n",
    "d) Describe how the prior and posterior Beta models compare."
   ]
  },
  {
   "cell_type": "markdown",
   "id": "de992d0a",
   "metadata": {},
   "source": [
    "I suspect that the mean should be near 95/2 = 47.5 which is close to half.  I chose $\\alpha = \\beta = 5$ that includes the values and is still pretty vague"
   ]
  },
  {
   "cell_type": "code",
   "execution_count": 26,
   "id": "283adc57",
   "metadata": {},
   "outputs": [
    {
     "name": "stdout",
     "output_type": "stream",
     "text": [
      "mean:0.5, var:0.022727272727272728, mode:0.5\n"
     ]
    },
    {
     "data": {
      "image/png": "[encoded data removed]",
      "text/plain": [
       "<Figure size 432x288 with 1 Axes>"
      ]
     },
     "metadata": {
      "needs_background": "light"
     },
     "output_type": "display_data"
    }
   ],
   "source": [
    "plotBeta(5,5)"
   ]
  },
  {
   "cell_type": "markdown",
   "id": "5605efa5",
   "metadata": {},
   "source": [
    "b and c) Updating the prior results in the posterior Beta(5+80,5+120)"
   ]
  },
  {
   "cell_type": "code",
   "execution_count": 23,
   "id": "4b0c9dc6",
   "metadata": {},
   "outputs": [
    {
     "name": "stdout",
     "output_type": "stream",
     "text": [
      "mean:0.40476190476190477, var:0.0011418469441489077, mode:0.40384615384615385\n"
     ]
    },
    {
     "data": {
      "image/png": "[encoded data removed]",
      "text/plain": [
       "<Figure size 432x288 with 1 Axes>"
      ]
     },
     "metadata": {
      "needs_background": "light"
     },
     "output_type": "display_data"
    }
   ],
   "source": [
    "plotBeta(85,125)"
   ]
  },
  {
   "cell_type": "markdown",
   "id": "83a116f3",
   "metadata": {},
   "source": [
    "In my opinion the prior had minimal impact on the posterior due to the large amount of data. Or perhaps my prior was too loose . Not sure about the priors in these problems"
   ]
  },
  {
   "cell_type": "markdown",
   "id": "24fb05c7",
   "metadata": {},
   "source": [
    "## define some more helper functions"
   ]
  },
  {
   "cell_type": "code",
   "execution_count": 53,
   "id": "df7a1cb3",
   "metadata": {},
   "outputs": [],
   "source": [
    "def beta_stats(a, b):\n",
    "    (mean, var) = beta.stats(a,b)\n",
    "    mode = (a-1)/(a+b -2)\n",
    "    return (float(mean), mode,float(var), np.sqrt(var))\n",
    "\n",
    "def summarize_beta_bin(alpha, beta, y, n):\n",
    "   (prior_mean, prior_mode, prior_var, prior_std) = beta_stats(alpha, beta)\n",
    "   (post_mean, post_mode, post_var, post_std) = beta_stats(alpha+y, beta+(n-y))\n",
    "   return pd.DataFrame({'alpha': [alpha, alpha+y], 'beta': [beta, beta+(n-y)], \\\n",
    "                        'mean': [prior_mean, post_mean], 'mode': [prior_mode, post_mode],\\\n",
    "                       'var': [prior_var, post_var], 'std': [prior_std, post_std]})\n",
    "    "
   ]
  },
  {
   "cell_type": "markdown",
   "id": "e5afa8db",
   "metadata": {},
   "source": [
    "## Exercise 3.15 \n",
    "\n",
    "Write the corresponding input code for the summarize_beta_binomial() output below\n",
    "\n",
    "```\n",
    "      model alpha beta   mean   mode       var      sd\n",
    "1     prior     1    2 0.3333 0.0000 0.0555556 0.23570\n",
    "2 posterior   100    3 0.9709 0.9802 0.0002719 0.01649\n",
    "```"
   ]
  },
  {
   "cell_type": "code",
   "execution_count": 55,
   "id": "fda2ad41",
   "metadata": {},
   "outputs": [
    {
     "data": {
      "text/html": [
       "<div>\n",
       "<style scoped>\n",
       "    .dataframe tbody tr th:only-of-type {\n",
       "        vertical-align: middle;\n",
       "    }\n",
       "\n",
       "    .dataframe tbody tr th {\n",
       "        vertical-align: top;\n",
       "    }\n",
       "\n",
       "    .dataframe thead th {\n",
       "        text-align: right;\n",
       "    }\n",
       "</style>\n",
       "<table border=\"1\" class=\"dataframe\">\n",
       "  <thead>\n",
       "    <tr style=\"text-align: right;\">\n",
       "      <th></th>\n",
       "      <th>alpha</th>\n",
       "      <th>beta</th>\n",
       "      <th>mean</th>\n",
       "      <th>mode</th>\n",
       "      <th>var</th>\n",
       "      <th>std</th>\n",
       "    </tr>\n",
       "  </thead>\n",
       "  <tbody>\n",
       "    <tr>\n",
       "      <th>0</th>\n",
       "      <td>1</td>\n",
       "      <td>2</td>\n",
       "      <td>0.333333</td>\n",
       "      <td>0.000000</td>\n",
       "      <td>0.055556</td>\n",
       "      <td>0.235702</td>\n",
       "    </tr>\n",
       "    <tr>\n",
       "      <th>1</th>\n",
       "      <td>100</td>\n",
       "      <td>3</td>\n",
       "      <td>0.970874</td>\n",
       "      <td>0.980198</td>\n",
       "      <td>0.000272</td>\n",
       "      <td>0.016489</td>\n",
       "    </tr>\n",
       "  </tbody>\n",
       "</table>\n",
       "</div>"
      ],
      "text/plain": [
       "   alpha  beta      mean      mode       var       std\n",
       "0      1     2  0.333333  0.000000  0.055556  0.235702\n",
       "1    100     3  0.970874  0.980198  0.000272  0.016489"
      ]
     },
     "execution_count": 55,
     "metadata": {},
     "output_type": "execute_result"
    }
   ],
   "source": [
    "summarize_beta_bin(1,2,99,100)"
   ]
  },
  {
   "cell_type": "markdown",
   "id": "6159283c",
   "metadata": {},
   "source": [
    "## Plot beta binomial"
   ]
  },
  {
   "cell_type": "code",
   "execution_count": 83,
   "id": "addc09d7",
   "metadata": {},
   "outputs": [],
   "source": [
    "def plotBetaBinomial(a,b,y,n):\n",
    "    fig, ax = plt.subplots(1, 1)\n",
    "    x = np.linspace(0, 1, 100)\n",
    "    ax.set(xlabel='pi', ylabel='density', title='BetaBinomial')\n",
    "    ax.grid()\n",
    "    ax.fill_between(x, 0, beta.pdf(x, a, b), alpha=0.6, label = 'prior')\n",
    "    ax.fill_between(x, 0, beta.pdf(x, y+1, n-y+1), alpha=0.6, label='likelyhood')\n",
    "    ax.fill_between(x, 0, beta.pdf(x, y+a, n-y+b), alpha=0.6, label = 'posterior')\n",
    "    plt.legend(bbox_to_anchor=(1.04,1), loc=\"upper left\")"
   ]
  },
  {
   "cell_type": "code",
   "execution_count": 84,
   "id": "266e93d5",
   "metadata": {},
   "outputs": [
    {
     "data": {
      "image/png": "[encoded data removed]",
      "text/plain": [
       "<Figure size 432x288 with 1 Axes>"
      ]
     },
     "metadata": {
      "needs_background": "light"
     },
     "output_type": "display_data"
    }
   ],
   "source": [
    "plotBetaBinomial(1,2,99,100)"
   ]
  },
  {
   "cell_type": "markdown",
   "id": "3b87c967",
   "metadata": {},
   "source": [
    "## Excercise 3.17\n",
    "See book."
   ]
  },
  {
   "cell_type": "code",
   "execution_count": 85,
   "id": "4fb7705d",
   "metadata": {},
   "outputs": [
    {
     "data": {
      "image/png": "[encoded data removed]",
      "text/plain": [
       "<Figure size 432x288 with 1 Axes>"
      ]
     },
     "metadata": {
      "needs_background": "light"
     },
     "output_type": "display_data"
    }
   ],
   "source": [
    "plotBetaBinomial(3,3,8,64)"
   ]
  },
  {
   "cell_type": "markdown",
   "id": "a783b5c6",
   "metadata": {},
   "source": [
    "## Excercise 3.18\n",
    "\n",
    "a) Patrick has a Beta(3,3) prior for  π\n",
    " , the probability that someone in their town attended a protest in June 2020. In their survey of 40 residents, 30 attended a protest. Summarize Patrick’s analysis using summarize_beta_binomial() and plot_beta_binomial().\n",
    " \n",
    "b) Harold has the same prior as Patrick, but lives in a different town. In their survey, 15 out of 20 people attended a protest. Summarize Harold’s analysis using summarize_beta_binomial() and plot_beta_binomial().\n",
    "\n",
    "\n",
    "c) How do Patrick and Harold’s posterior models compare? Briefly explain what causes these similarities and differences."
   ]
  },
  {
   "cell_type": "code",
   "execution_count": 87,
   "id": "8e79bc90",
   "metadata": {},
   "outputs": [
    {
     "data": {
      "text/html": [
       "<div>\n",
       "<style scoped>\n",
       "    .dataframe tbody tr th:only-of-type {\n",
       "        vertical-align: middle;\n",
       "    }\n",
       "\n",
       "    .dataframe tbody tr th {\n",
       "        vertical-align: top;\n",
       "    }\n",
       "\n",
       "    .dataframe thead th {\n",
       "        text-align: right;\n",
       "    }\n",
       "</style>\n",
       "<table border=\"1\" class=\"dataframe\">\n",
       "  <thead>\n",
       "    <tr style=\"text-align: right;\">\n",
       "      <th></th>\n",
       "      <th>alpha</th>\n",
       "      <th>beta</th>\n",
       "      <th>mean</th>\n",
       "      <th>mode</th>\n",
       "      <th>var</th>\n",
       "      <th>std</th>\n",
       "    </tr>\n",
       "  </thead>\n",
       "  <tbody>\n",
       "    <tr>\n",
       "      <th>0</th>\n",
       "      <td>3</td>\n",
       "      <td>3</td>\n",
       "      <td>0.500000</td>\n",
       "      <td>0.500000</td>\n",
       "      <td>0.035714</td>\n",
       "      <td>0.188982</td>\n",
       "    </tr>\n",
       "    <tr>\n",
       "      <th>1</th>\n",
       "      <td>33</td>\n",
       "      <td>13</td>\n",
       "      <td>0.717391</td>\n",
       "      <td>0.727273</td>\n",
       "      <td>0.004314</td>\n",
       "      <td>0.065678</td>\n",
       "    </tr>\n",
       "  </tbody>\n",
       "</table>\n",
       "</div>"
      ],
      "text/plain": [
       "   alpha  beta      mean      mode       var       std\n",
       "0      3     3  0.500000  0.500000  0.035714  0.188982\n",
       "1     33    13  0.717391  0.727273  0.004314  0.065678"
      ]
     },
     "execution_count": 87,
     "metadata": {},
     "output_type": "execute_result"
    }
   ],
   "source": [
    "summarize_beta_bin(3,3,30,40)"
   ]
  },
  {
   "cell_type": "code",
   "execution_count": 88,
   "id": "f34c25e5",
   "metadata": {},
   "outputs": [
    {
     "data": {
      "image/png": "[encoded data removed]",
      "text/plain": [
       "<Figure size 432x288 with 1 Axes>"
      ]
     },
     "metadata": {
      "needs_background": "light"
     },
     "output_type": "display_data"
    }
   ],
   "source": [
    "plotBetaBinomial(3,3,30,40)"
   ]
  },
  {
   "cell_type": "code",
   "execution_count": 89,
   "id": "67d09aea",
   "metadata": {},
   "outputs": [
    {
     "data": {
      "text/html": [
       "<div>\n",
       "<style scoped>\n",
       "    .dataframe tbody tr th:only-of-type {\n",
       "        vertical-align: middle;\n",
       "    }\n",
       "\n",
       "    .dataframe tbody tr th {\n",
       "        vertical-align: top;\n",
       "    }\n",
       "\n",
       "    .dataframe thead th {\n",
       "        text-align: right;\n",
       "    }\n",
       "</style>\n",
       "<table border=\"1\" class=\"dataframe\">\n",
       "  <thead>\n",
       "    <tr style=\"text-align: right;\">\n",
       "      <th></th>\n",
       "      <th>alpha</th>\n",
       "      <th>beta</th>\n",
       "      <th>mean</th>\n",
       "      <th>mode</th>\n",
       "      <th>var</th>\n",
       "      <th>std</th>\n",
       "    </tr>\n",
       "  </thead>\n",
       "  <tbody>\n",
       "    <tr>\n",
       "      <th>0</th>\n",
       "      <td>3</td>\n",
       "      <td>3</td>\n",
       "      <td>0.500000</td>\n",
       "      <td>0.500000</td>\n",
       "      <td>0.035714</td>\n",
       "      <td>0.188982</td>\n",
       "    </tr>\n",
       "    <tr>\n",
       "      <th>1</th>\n",
       "      <td>18</td>\n",
       "      <td>8</td>\n",
       "      <td>0.692308</td>\n",
       "      <td>0.708333</td>\n",
       "      <td>0.007890</td>\n",
       "      <td>0.088823</td>\n",
       "    </tr>\n",
       "  </tbody>\n",
       "</table>\n",
       "</div>"
      ],
      "text/plain": [
       "   alpha  beta      mean      mode       var       std\n",
       "0      3     3  0.500000  0.500000  0.035714  0.188982\n",
       "1     18     8  0.692308  0.708333  0.007890  0.088823"
      ]
     },
     "execution_count": 89,
     "metadata": {},
     "output_type": "execute_result"
    }
   ],
   "source": [
    "summarize_beta_bin(3,3,15,20)"
   ]
  },
  {
   "cell_type": "code",
   "execution_count": 90,
   "id": "21f9ccb6",
   "metadata": {},
   "outputs": [
    {
     "data": {
      "image/png": "[encoded data removed]",
      "text/plain": [
       "<Figure size 432x288 with 1 Axes>"
      ]
     },
     "metadata": {
      "needs_background": "light"
     },
     "output_type": "display_data"
    }
   ],
   "source": [
    "plotBetaBinomial(3,3,15,20)"
   ]
  },
  {
   "cell_type": "markdown",
   "id": "4eccbac9",
   "metadata": {},
   "source": [
    "Not sure what they are looking for here. The posterior models are similar in mean but harolds is wider due to collecting less data."
   ]
  },
  {
   "cell_type": "code",
   "execution_count": null,
   "id": "3c834680",
   "metadata": {},
   "outputs": [],
   "source": []
  }
 ],
 "metadata": {
  "kernelspec": {
   "display_name": "Python 3 (ipykernel)",
   "language": "python",
   "name": "python3"
  },
  "language_info": {
   "codemirror_mode": {
    "name": "ipython",
    "version": 3
   },
   "file_extension": ".py",
   "mimetype": "text/x-python",
   "name": "python",
   "nbconvert_exporter": "python",
   "pygments_lexer": "ipython3",
   "version": "3.7.11"
  }
 },
 "nbformat": 4,
 "nbformat_minor": 5
}
