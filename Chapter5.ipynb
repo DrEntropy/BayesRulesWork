{
 "cells": [
  {
   "cell_type": "code",
   "execution_count": 36,
   "id": "9780ab87",
   "metadata": {},
   "outputs": [],
   "source": [
    "import numpy as np\n",
    "import pandas as pd\n",
    "from scipy.stats import binom, beta, gamma, poisson, norm\n",
    "from scipy.optimize import minimize\n",
    "from numpy.random import default_rng\n",
    "import matplotlib.pyplot as plt"
   ]
  },
  {
   "cell_type": "markdown",
   "id": "5cee6588",
   "metadata": {},
   "source": [
    "Note:  To match gamma parameterization i book,  use gamma(s, scale = 1/r)"
   ]
  },
  {
   "cell_type": "markdown",
   "id": "a6206eb1",
   "metadata": {},
   "source": [
    "### Exercise 5.5:\n",
    "\n",
    "Let random variable $\\lambda$ represent the rate of text messages people receive in an hour. At first, you believe that the typical number of messages per hour is 5 with a standard deviation of 0.25 messages.\n",
    "Tune and plot an appropriate Gamma  prior model for  $\\lambda$.\n",
    " \n",
    "What is the prior probability that the rate of text messages per hour is larger than 10? "
   ]
  },
  {
   "cell_type": "markdown",
   "id": "eed0f82e",
   "metadata": {},
   "source": [
    "Recall mean = s/r,  var = s/r^2 .   \n",
    "so $s/r = 5$ and $s/r^2 = 0.25^2$\n",
    "\n",
    "Lets solve this general:\n",
    "\n",
    "$s = \\mu r$\n",
    "$\\mu / r = \\sigma^2$\n",
    "\n",
    "implies \n",
    "\n",
    "$r = \\mu/\\sigma^2$ and $s = \\mu^2/\\sigma^2$"
   ]
  },
  {
   "cell_type": "code",
   "execution_count": 13,
   "id": "f3dbf4cf",
   "metadata": {},
   "outputs": [
    {
     "data": {
      "text/plain": [
       "0.0625"
      ]
     },
     "execution_count": 13,
     "metadata": {},
     "output_type": "execute_result"
    }
   ],
   "source": [
    ".25**2"
   ]
  },
  {
   "cell_type": "code",
   "execution_count": 20,
   "id": "c4aac81e",
   "metadata": {},
   "outputs": [
    {
     "name": "stdout",
     "output_type": "stream",
     "text": [
      "s = 400.0, r = 80.0\n",
      "(array(5.), array(0.0625))\n",
      "Probability of rate > 10 is 0.0\n"
     ]
    },
    {
     "data": {
      "image/png": "[encoded data removed]",
      "text/plain": [
       "<Figure size 432x288 with 1 Axes>"
      ]
     },
     "metadata": {
      "needs_background": "light"
     },
     "output_type": "display_data"
    }
   ],
   "source": [
    "fig, ax = plt.subplots(1, 1)\n",
    "r = 5.0/0.25**2\n",
    "s = 5.0*r \n",
    "print(f\"s = {s}, r = {r}\")\n",
    "rv = gamma(s, scale = 1/r)\n",
    "print(rv.stats(moments=\"mv\"))\n",
    "x = np.linspace(rv.ppf(0.01),\n",
    "                rv.ppf(0.99), 100)\n",
    "ax.plot(x, rv.pdf(x),\n",
    "       'r-', lw=5, alpha=0.6, label='gamma pdf')\n",
    "print(f\"Probability of rate > 10 is {1.0-rv.cdf(10.0)}\")"
   ]
  },
  {
   "cell_type": "markdown",
   "id": "9f69a10c",
   "metadata": {},
   "source": [
    "### Exercise 5.6 \n",
    "Continuing with Exercise 5.5, you collect data from six friends. They received 7, 3, 8, 9, 10, 12 text messages in the previous hour.\n",
    "Plot the resulting likelihood function \n",
    "\n",
    "Plot the   posterior pdf  and summary statistics.\n",
    " \n",
    "Comment on how your understanding about   $\\lambda$ changed from the prior (in the previous exercise) to the posterior based on the data you collected from your friends."
   ]
  },
  {
   "cell_type": "code",
   "execution_count": 22,
   "id": "9aee9b62",
   "metadata": {},
   "outputs": [],
   "source": [
    "totalMessages = 7+3+8+9+10+12\n",
    "numTest = 6"
   ]
  },
  {
   "cell_type": "code",
   "execution_count": 27,
   "id": "14747a1a",
   "metadata": {},
   "outputs": [
    {
     "data": {
      "text/plain": [
       "26489122129.84347"
      ]
     },
     "execution_count": 27,
     "metadata": {},
     "output_type": "execute_result"
    }
   ],
   "source": [
    "np.exp(4.*numTest)"
   ]
  },
  {
   "cell_type": "markdown",
   "id": "17c81b83",
   "metadata": {},
   "source": [
    "recall that the likely hood is $L \\propto \\lambda^{\\sum{y_i}}e^{-n\\lambda}$\n"
   ]
  },
  {
   "cell_type": "code",
   "execution_count": 29,
   "id": "16b4e9aa",
   "metadata": {},
   "outputs": [
    {
     "data": {
      "text/plain": [
       "[<matplotlib.lines.Line2D at 0x7faacf80dcd0>]"
      ]
     },
     "execution_count": 29,
     "metadata": {},
     "output_type": "execute_result"
    },
    {
     "data": {
      "image/png": "[encoded data removed]",
      "text/plain": [
       "<Figure size 432x288 with 1 Axes>"
      ]
     },
     "metadata": {
      "needs_background": "light"
     },
     "output_type": "display_data"
    }
   ],
   "source": [
    "fig, ax = plt.subplots(1, 1)\n",
    "x = np.linspace(4., 12., 100)\n",
    "ax.plot(x, np.exp(-numTest*x)*x**totalMessages,\n",
    "       'r-', lw=5, alpha=0.6, label='Likelhood')\n",
    " "
   ]
  },
  {
   "cell_type": "markdown",
   "id": "cb2fd63f",
   "metadata": {},
   "source": [
    "And the posterior is given by:"
   ]
  },
  {
   "cell_type": "code",
   "execution_count": 31,
   "id": "488e8e46",
   "metadata": {},
   "outputs": [],
   "source": [
    "post_s = s + totalMessages\n",
    "post_r = r + numTest"
   ]
  },
  {
   "cell_type": "code",
   "execution_count": 35,
   "id": "baa159b6",
   "metadata": {},
   "outputs": [
    {
     "name": "stdout",
     "output_type": "stream",
     "text": [
      "Mean: 5.220930232558139, std: 0.24639093140019871\n",
      "Probability of rate > 10 is now 0.0\n"
     ]
    },
    {
     "data": {
      "image/png": "[encoded data removed]",
      "text/plain": [
       "<Figure size 432x288 with 1 Axes>"
      ]
     },
     "metadata": {
      "needs_background": "light"
     },
     "output_type": "display_data"
    }
   ],
   "source": [
    "fig, ax = plt.subplots(1, 1)\n",
    "rv = gamma(post_s, scale = 1/post_r)\n",
    "(mean, var) = rv.stats(moments=\"mv\")\n",
    "print(f\"Mean: {mean}, std: {np.sqrt(var)}\")\n",
    "x = np.linspace(rv.ppf(0.01),\n",
    "                rv.ppf(0.99), 100)\n",
    "ax.plot(x, rv.pdf(x),\n",
    "       'r-', lw=5, alpha=0.6, label='gamma pdf')\n",
    "print(f\"Probability of rate > 10 is now {1.0-rv.cdf(10.0)}\")"
   ]
  },
  {
   "cell_type": "markdown",
   "id": "de447706",
   "metadata": {},
   "source": [
    "Note that the very tight prior ($\\sigma = 0.25$) really means the data was not anywhere near enough! Almost no change from prior."
   ]
  },
  {
   "cell_type": "markdown",
   "id": "9893f9bd",
   "metadata": {},
   "source": [
    "### Exercise 5.9 (Investing in stock)\n",
    "\n",
    "You just bought stock in FancyTech. Let random variable  μ  be the average dollar amount that your FancyTech stock goes up or down in a one-day period. At first, you believe that  μ  is 7.2 dollars with a standard deviation of 2.6 dollars. Tune and plot an appropriate Normal prior model for  μ.\n",
    "\n",
    "According to your plot, does it seem plausible that the FancyTech stock would increase by an average of 7.6 dollars in a day?\n",
    "\n",
    "Does it seem plausible that the FancyTech stock would increase by an average of 4 dollars in a day?\n",
    "\n",
    "What is the prior probability that, on average, the stock price goes down? Hint: pnorm().\n",
    "\n",
    "What is the prior probability that, on average, your stock price goes up by more than 8 dollars per day?"
   ]
  },
  {
   "cell_type": "code",
   "execution_count": 61,
   "id": "f716ed01",
   "metadata": {},
   "outputs": [
    {
     "name": "stdout",
     "output_type": "stream",
     "text": [
      "Mean: 7.2, std: 6.760000000000001\n",
      "Probability of stock goes down is 0.14341788318648852\n",
      "Probability of stock goes up more then 8 dollars 0.45289786648776287\n"
     ]
    },
    {
     "data": {
      "image/png": "[encoded data removed]",
      "text/plain": [
       "<Figure size 432x288 with 1 Axes>"
      ]
     },
     "metadata": {
      "needs_background": "light"
     },
     "output_type": "display_data"
    }
   ],
   "source": [
    "fig, ax = plt.subplots(1, 1)\n",
    "prior_mean =7.2\n",
    "prior_var = 2.6**2\n",
    "prior = norm(loc = prior_mean, scale = prior_var)\n",
    "(mean, var) = prior.stats(moments=\"mv\")\n",
    "print(f\"Mean: {mean}, std: {np.sqrt(var)}\")\n",
    "x = np.linspace(prior.ppf(0.01),\n",
    "                prior.ppf(0.99), 100)\n",
    "ax.plot(x, prior.pdf(x),\n",
    "       'r-', lw=5, alpha=0.6, label='prior distribtion pdf')\n",
    "print(f\"Probability of stock goes down is {prior.cdf(0)}\")\n",
    "print(f\"Probability of stock goes up more then 8 dollars { 1-prior.cdf(8.0)}\")"
   ]
  },
  {
   "cell_type": "markdown",
   "id": "ab250d15",
   "metadata": {},
   "source": [
    "### Exercise 5.10 (Investing in stock with data) \n",
    "\n",
    "Continuing with Exercise 5.9, it’s reasonable to assume that the daily changes in FancyTech stock value are Normally distributed around an unknown mean of  μ with a known standard deviation of  $\\sigma = 2$ dollars.\n",
    "\n",
    "On a random sample of 4 days, you observe changes in stock value of -0.7, 1.2, 4.5, and -4 dollars.\n",
    "\n",
    "Plot the corresponding likelihood function of  μ\n",
    " \n",
    "Plot the prior pdf, likelihood function, and the posterior pdf for  μ\n",
    "\n",
    "Use summarize_normal_normal() to calculate descriptive statistics for the prior and the posterior models.\n",
    "\n",
    "Comment on how your understanding about  μ evolved from the prior (in the previous exercise) to the posterior based on the observed data.\n",
    "\n",
    "What is the posterior probability that, on average, the stock price goes down? Hint: pnorm().\n",
    "\n",
    "What is the posterior probability that, on average, your stock price goes up by more than 8 dollars per day?"
   ]
  },
  {
   "cell_type": "code",
   "execution_count": 54,
   "id": "ef284833",
   "metadata": {},
   "outputs": [
    {
     "name": "stdout",
     "output_type": "stream",
     "text": [
      "mean of 4 observations: 0.25\n",
      "Mean: 0.25, std: 1.0\n"
     ]
    },
    {
     "data": {
      "text/plain": [
       "[<matplotlib.lines.Line2D at 0x7faad05788d0>]"
      ]
     },
     "execution_count": 54,
     "metadata": {},
     "output_type": "execute_result"
    },
    {
     "data": {
      "image/png": "[encoded data removed]",
      "text/plain": [
       "<Figure size 432x288 with 1 Axes>"
      ]
     },
     "metadata": {
      "needs_background": "light"
     },
     "output_type": "display_data"
    }
   ],
   "source": [
    "model_sig = 2\n",
    "observations = [-0.7, 1.2,4.5, -4]\n",
    "mean_obs = np.mean(observations)\n",
    "n = len(observations)\n",
    "print(f\"mean of {n} observations: {mean_obs}\")\n",
    "\n",
    "\n",
    "# plot likelihood\n",
    "fig, ax = plt.subplots(1, 1)\n",
    " \n",
    "likelihood = norm(loc = mean_obs, scale = (model_sig**2)/n)\n",
    "(mean, var) = likelihood.stats(moments=\"mv\")\n",
    "print(f\"Mean: {mean}, std: {np.sqrt(var)}\")\n",
    "x = np.linspace(likelihood.ppf(0.01),\n",
    "                likelihood.ppf(0.99), 100)\n",
    "ax.plot(x,likelihood.pdf(x),\n",
    "       'r-', lw=5, alpha=0.6, label='likelihood distribtion pdf')\n"
   ]
  },
  {
   "cell_type": "code",
   "execution_count": 59,
   "id": "2c446cae",
   "metadata": {},
   "outputs": [
    {
     "data": {
      "text/plain": [
       "4"
      ]
     },
     "execution_count": 59,
     "metadata": {},
     "output_type": "execute_result"
    }
   ],
   "source": [
    "model_sig**2"
   ]
  },
  {
   "cell_type": "code",
   "execution_count": 72,
   "id": "81d0ab34",
   "metadata": {},
   "outputs": [
    {
     "name": "stdout",
     "output_type": "stream",
     "text": [
      "Mean: 1.1456185567010309, std: 0.8711340206185567\n",
      "Probability of stock goes down is 0.09424003728277364\n",
      "Probability of stock goes up more then 8 dollars 1.7763568394002505e-15\n"
     ]
    },
    {
     "data": {
      "image/png": "[encoded data removed]",
      "text/plain": [
       "<Figure size 432x288 with 1 Axes>"
      ]
     },
     "metadata": {
      "needs_background": "light"
     },
     "output_type": "display_data"
    }
   ],
   "source": [
    "fig, ax = plt.subplots(1, 1)\n",
    "post_mean = (prior_mean*model_sig**2 + mean_obs*n*prior_var)/(n*prior_var + model_sig**2) \n",
    "post_var = prior_var*model_sig**2/(n*prior_var + model_sig**2)\n",
    "rv = norm(loc = post_mean, scale = post_var)\n",
    "(mean, var) = rv.stats(moments=\"mv\")\n",
    "print(f\"Mean: {mean}, std: {np.sqrt(var)}\")\n",
    "x = np.linspace(-2,\n",
    "                6, 100)\n",
    "ax.plot(x, rv.pdf(x),\n",
    "       'r-', lw=5, alpha=0.6, label='post distribtion pdf')\n",
    "ax.plot(x,likelihood.pdf(x),\n",
    "       'b-', lw=5, alpha=0.6, label='likelyhood distribtion pdf')\n",
    "ax.plot(x, prior.pdf(x),\n",
    "       'g-', lw=5, alpha=0.6, label='prior distribtion pdf')\n",
    "print(f\"Probability of stock goes down is {rv.cdf(0)}\")\n",
    "print(f\"Probability of stock goes up more then 8 dollars { 1-rv.cdf(8.0)}\")"
   ]
  },
  {
   "cell_type": "markdown",
   "id": "6450155b",
   "metadata": {},
   "source": [
    "We note that we have a much narrower distribution for $\\mu$ then our prior, and that the mean shifted down to about $1"
   ]
  },
  {
   "cell_type": "markdown",
   "id": "ed4732a6",
   "metadata": {},
   "source": [
    "### Exercise 5.14 \n",
    " To show that posterior simulation sucks, attempt Simulate the posterior of  μ\n",
    "  for the following model upon observing a single data point  Y = 1.1:\n",
    " \n",
    " $$ Y|\\mu \\sim N(\\mu, 1^2)\\\\\n",
    "    \\mu \\sim N(0, 1^2) $$\n",
    "    \n",
    " Note that we will rarely see exactly Y =1.1, but what if we gave it a windo dY = .005 for example. Lets try that"
   ]
  },
  {
   "cell_type": "code",
   "execution_count": 160,
   "id": "2ca4b19d",
   "metadata": {},
   "outputs": [],
   "source": [
    "num_samples = 1000000\n",
    "prior_mus = norm.rvs(size=num_samples)\n",
    " \n",
    "sim_data= pd.DataFrame(data = {'mu' :prior_mus})\n",
    "sim_data['Y']= norm.rvs(loc=sim_data['mu'])"
   ]
  },
  {
   "cell_type": "code",
   "execution_count": 161,
   "id": "bc8d1f52",
   "metadata": {},
   "outputs": [
    {
     "data": {
      "text/html": [
       "<div>\n",
       "<style scoped>\n",
       "    .dataframe tbody tr th:only-of-type {\n",
       "        vertical-align: middle;\n",
       "    }\n",
       "\n",
       "    .dataframe tbody tr th {\n",
       "        vertical-align: top;\n",
       "    }\n",
       "\n",
       "    .dataframe thead th {\n",
       "        text-align: right;\n",
       "    }\n",
       "</style>\n",
       "<table border=\"1\" class=\"dataframe\">\n",
       "  <thead>\n",
       "    <tr style=\"text-align: right;\">\n",
       "      <th></th>\n",
       "      <th>mu</th>\n",
       "      <th>Y</th>\n",
       "    </tr>\n",
       "  </thead>\n",
       "  <tbody>\n",
       "    <tr>\n",
       "      <th>0</th>\n",
       "      <td>0.234516</td>\n",
       "      <td>0.451125</td>\n",
       "    </tr>\n",
       "    <tr>\n",
       "      <th>1</th>\n",
       "      <td>-0.287105</td>\n",
       "      <td>-0.499281</td>\n",
       "    </tr>\n",
       "    <tr>\n",
       "      <th>2</th>\n",
       "      <td>0.939947</td>\n",
       "      <td>1.088977</td>\n",
       "    </tr>\n",
       "  </tbody>\n",
       "</table>\n",
       "</div>"
      ],
      "text/plain": [
       "         mu         Y\n",
       "0  0.234516  0.451125\n",
       "1 -0.287105 -0.499281\n",
       "2  0.939947  1.088977"
      ]
     },
     "execution_count": 161,
     "metadata": {},
     "output_type": "execute_result"
    }
   ],
   "source": [
    "sim_data.head(3)"
   ]
  },
  {
   "cell_type": "code",
   "execution_count": 162,
   "id": "7a5186fa",
   "metadata": {},
   "outputs": [
    {
     "data": {
      "text/plain": [
       "(2086, 2)"
      ]
     },
     "execution_count": 162,
     "metadata": {},
     "output_type": "execute_result"
    }
   ],
   "source": [
    "close_results = sim_data[np.abs(sim_data.Y - 1.1) < .005].reset_index(drop=True)\n",
    "close_results.shape"
   ]
  },
  {
   "cell_type": "code",
   "execution_count": 163,
   "id": "92d619ab",
   "metadata": {},
   "outputs": [
    {
     "data": {
      "text/plain": [
       "<AxesSubplot:>"
      ]
     },
     "execution_count": 163,
     "metadata": {},
     "output_type": "execute_result"
    },
    {
     "data": {
      "image/png": "[encoded data removed]",
      "text/plain": [
       "<Figure size 432x288 with 1 Axes>"
      ]
     },
     "metadata": {
      "needs_background": "light"
     },
     "output_type": "display_data"
    }
   ],
   "source": [
    "(close_results.mu).hist()"
   ]
  },
  {
   "cell_type": "code",
   "execution_count": 166,
   "id": "4048455b",
   "metadata": {},
   "outputs": [
    {
     "data": {
      "text/plain": [
       "count    2086.000000\n",
       "mean        0.536403\n",
       "std         0.724280\n",
       "min        -2.414039\n",
       "25%         0.046422\n",
       "50%         0.539368\n",
       "75%         1.019534\n",
       "max         3.156815\n",
       "Name: mu, dtype: float64"
      ]
     },
     "execution_count": 166,
     "metadata": {},
     "output_type": "execute_result"
    }
   ],
   "source": [
    "close_results.mu.describe()"
   ]
  },
  {
   "cell_type": "markdown",
   "id": "633970d9",
   "metadata": {},
   "source": [
    "The true answer is:"
   ]
  },
  {
   "cell_type": "code",
   "execution_count": 169,
   "id": "a27d0ed7",
   "metadata": {},
   "outputs": [
    {
     "name": "stdout",
     "output_type": "stream",
     "text": [
      "Mean: 0.5, std:0.7071067811865476\n"
     ]
    },
    {
     "data": {
      "image/png": "[encoded data removed]",
      "text/plain": [
       "<Figure size 432x288 with 1 Axes>"
      ]
     },
     "metadata": {
      "needs_background": "light"
     },
     "output_type": "display_data"
    }
   ],
   "source": [
    "fig, ax = plt.subplots(1, 1)\n",
    "mean = 1/2.0  # weighted result\n",
    "var = 1/2.0 # 1*1/(1^2 + 1^2)\n",
    "print(f\"Mean: {mean}, std:{np.sqrt(var)}\")\n",
    "res = norm(loc = mean, scale =  var)\n",
    " \n",
    "x = np.linspace(res.ppf(0.01),\n",
    "                res.ppf(0.99), 100)\n",
    "ax.plot(x, res.pdf(x), 'r-', lw=5, alpha=0.6)\n",
    "ax.hist(close_results.mu, density = True);"
   ]
  },
  {
   "cell_type": "markdown",
   "id": "79500f3a",
   "metadata": {},
   "source": [
    "I mean it works... just not terribly efficient. i got 2000 samples from 1 million to start with !"
   ]
  },
  {
   "cell_type": "code",
   "execution_count": null,
   "id": "325ac885",
   "metadata": {},
   "outputs": [],
   "source": []
  }
 ],
 "metadata": {
  "kernelspec": {
   "display_name": "Python 3 (ipykernel)",
   "language": "python",
   "name": "python3"
  },
  "language_info": {
   "codemirror_mode": {
    "name": "ipython",
    "version": 3
   },
   "file_extension": ".py",
   "mimetype": "text/x-python",
   "name": "python",
   "nbconvert_exporter": "python",
   "pygments_lexer": "ipython3",
   "version": "3.7.13"
  }
 },
 "nbformat": 4,
 "nbformat_minor": 5
}
