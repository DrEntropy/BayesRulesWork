{
 "cells": [
  {
   "cell_type": "code",
   "execution_count": 1,
   "id": "9780ab87",
   "metadata": {},
   "outputs": [],
   "source": [
    "import numpy as np\n",
    "import pandas as pd\n",
    "from scipy.stats import binom, beta, gamma, poisson\n",
    "from scipy.optimize import minimize\n",
    "from numpy.random import default_rng\n",
    "import matplotlib.pyplot as plt"
   ]
  },
  {
   "cell_type": "markdown",
   "id": "e6128029",
   "metadata": {},
   "source": [
    "Note:  To match gamma parameterization i book,  use gamma(s, scale = 1/r)"
   ]
  },
  {
   "cell_type": "markdown",
   "id": "a6206eb1",
   "metadata": {},
   "source": [
    "### Exercise 5.5:\n",
    "\n",
    "Let random variable $\\lambda$ represent the rate of text messages people receive in an hour. At first, you believe that the typical number of messages per hour is 5 with a standard deviation of 0.25 messages.\n",
    "Tune and plot an appropriate Gamma  prior model for  $\\lambda$.\n",
    " \n",
    "What is the prior probability that the rate of text messages per hour is larger than 10? "
   ]
  },
  {
   "cell_type": "markdown",
   "id": "168c4d13",
   "metadata": {},
   "source": [
    "Recall mean = s/r,  var = s/r^2 .   \n",
    "so $s/r = 5$ and $s/r^2 = 0.25^2$\n",
    "\n",
    "Lets solve this general:\n",
    "\n",
    "$s = \\mu r$\n",
    "$\\mu / r = \\sigma^2$\n",
    "\n",
    "implies \n",
    "\n",
    "$r = \\mu/\\sigma^2$ and $s = \\mu^2/\\sigma^2$"
   ]
  },
  {
   "cell_type": "code",
   "execution_count": 13,
   "id": "a7b917b8",
   "metadata": {},
   "outputs": [
    {
     "data": {
      "text/plain": [
       "0.0625"
      ]
     },
     "execution_count": 13,
     "metadata": {},
     "output_type": "execute_result"
    }
   ],
   "source": [
    ".25**2"
   ]
  },
  {
   "cell_type": "code",
   "execution_count": 20,
   "id": "c4aac81e",
   "metadata": {},
   "outputs": [
    {
     "name": "stdout",
     "output_type": "stream",
     "text": [
      "s = 400.0, r = 80.0\n",
      "(array(5.), array(0.0625))\n",
      "Probability of rate > 10 is 0.0\n"
     ]
    },
    {
     "data": {
      "image/png": "[encoded data removed]",
      "text/plain": [
       "<Figure size 432x288 with 1 Axes>"
      ]
     },
     "metadata": {
      "needs_background": "light"
     },
     "output_type": "display_data"
    }
   ],
   "source": [
    "fig, ax = plt.subplots(1, 1)\n",
    "r = 5.0/0.25**2\n",
    "s = 5.0*r \n",
    "print(f\"s = {s}, r = {r}\")\n",
    "rv = gamma(s, scale = 1/r)\n",
    "print(rv.stats(moments=\"mv\"))\n",
    "x = np.linspace(rv.ppf(0.01),\n",
    "                rv.ppf(0.99), 100)\n",
    "ax.plot(x, rv.pdf(x),\n",
    "       'r-', lw=5, alpha=0.6, label='gamma pdf')\n",
    "print(f\"Probability of rate > 10 is {1.0-rv.cdf(10.0)}\")"
   ]
  },
  {
   "cell_type": "markdown",
   "id": "5ae7df5d",
   "metadata": {},
   "source": [
    "### Exercise 5.6 \n",
    "Continuing with Exercise 5.5, you collect data from six friends. They received 7, 3, 8, 9, 10, 12 text messages in the previous hour.\n",
    "Plot the resulting likelihood function \n",
    "\n",
    "Plot the   posterior pdf  and summary statistics.\n",
    " \n",
    "Comment on how your understanding about   $\\lambda$ changed from the prior (in the previous exercise) to the posterior based on the data you collected from your friends."
   ]
  },
  {
   "cell_type": "code",
   "execution_count": 22,
   "id": "af0482ec",
   "metadata": {},
   "outputs": [],
   "source": [
    "totalMessages = 7+3+8+9+10+12\n",
    "numTest = 6"
   ]
  },
  {
   "cell_type": "code",
   "execution_count": 27,
   "id": "838e7047",
   "metadata": {},
   "outputs": [
    {
     "data": {
      "text/plain": [
       "26489122129.84347"
      ]
     },
     "execution_count": 27,
     "metadata": {},
     "output_type": "execute_result"
    }
   ],
   "source": [
    "np.exp(4.*numTest)"
   ]
  },
  {
   "cell_type": "markdown",
   "id": "841ff042",
   "metadata": {},
   "source": [
    "recall that the likely hood is $L \\propto \\lambda^{\\sum{y_i}}e^{-n\\lambda}$\n"
   ]
  },
  {
   "cell_type": "code",
   "execution_count": 29,
   "id": "d6931ab8",
   "metadata": {},
   "outputs": [
    {
     "data": {
      "text/plain": [
       "[<matplotlib.lines.Line2D at 0x7faacf80dcd0>]"
      ]
     },
     "execution_count": 29,
     "metadata": {},
     "output_type": "execute_result"
    },
    {
     "data": {
      "image/png": "[encoded data removed]",
      "text/plain": [
       "<Figure size 432x288 with 1 Axes>"
      ]
     },
     "metadata": {
      "needs_background": "light"
     },
     "output_type": "display_data"
    }
   ],
   "source": [
    "fig, ax = plt.subplots(1, 1)\n",
    "x = np.linspace(4., 12., 100)\n",
    "ax.plot(x, np.exp(-numTest*x)*x**totalMessages,\n",
    "       'r-', lw=5, alpha=0.6, label='Likelhood')\n",
    " "
   ]
  },
  {
   "cell_type": "markdown",
   "id": "e01b5b4f",
   "metadata": {},
   "source": [
    "And the posterior is given by:"
   ]
  },
  {
   "cell_type": "code",
   "execution_count": 31,
   "id": "bd1112f2",
   "metadata": {},
   "outputs": [],
   "source": [
    "post_s = s + totalMessages\n",
    "post_r = r + numTest"
   ]
  },
  {
   "cell_type": "code",
   "execution_count": 35,
   "id": "d4929f06",
   "metadata": {},
   "outputs": [
    {
     "name": "stdout",
     "output_type": "stream",
     "text": [
      "Mean: 5.220930232558139, std: 0.24639093140019871\n",
      "Probability of rate > 10 is now 0.0\n"
     ]
    },
    {
     "data": {
      "image/png": "[encoded data removed]",
      "text/plain": [
       "<Figure size 432x288 with 1 Axes>"
      ]
     },
     "metadata": {
      "needs_background": "light"
     },
     "output_type": "display_data"
    }
   ],
   "source": [
    "fig, ax = plt.subplots(1, 1)\n",
    "rv = gamma(post_s, scale = 1/post_r)\n",
    "(mean, var) = rv.stats(moments=\"mv\")\n",
    "print(f\"Mean: {mean}, std: {np.sqrt(var)}\")\n",
    "x = np.linspace(rv.ppf(0.01),\n",
    "                rv.ppf(0.99), 100)\n",
    "ax.plot(x, rv.pdf(x),\n",
    "       'r-', lw=5, alpha=0.6, label='gamma pdf')\n",
    "print(f\"Probability of rate > 10 is now {1.0-rv.cdf(10.0)}\")"
   ]
  },
  {
   "cell_type": "markdown",
   "id": "7928e5e8",
   "metadata": {},
   "source": [
    "Note that the very tight prior ($\\sigma = 0.25$) really means the data was not anywhere near enough! Almost no change from prior."
   ]
  },
  {
   "cell_type": "markdown",
   "id": "4535a831",
   "metadata": {},
   "source": [
    "### Exercise 5.9 (Investing in stock)\n",
    "\n",
    "You just bought stock in FancyTech. Let random variable  μ  be the average dollar amount that your FancyTech stock goes up or down in a one-day period. At first, you believe that  μ  is 7.2 dollars with a standard deviation of 2.6 dollars. Tune and plot an appropriate Normal prior model for  μ.\n",
    "\n",
    "According to your plot, does it seem plausible that the FancyTech stock would increase by an average of 7.6 dollars in a day?\n",
    "\n",
    "Does it seem plausible that the FancyTech stock would increase by an average of 4 dollars in a day?\n",
    "\n",
    "What is the prior probability that, on average, the stock price goes down? Hint: pnorm().\n",
    "\n",
    "What is the prior probability that, on average, your stock price goes up by more than 8 dollars per day?"
   ]
  },
  {
   "cell_type": "markdown",
   "id": "0820505f",
   "metadata": {},
   "source": [
    "### Exercise 5.10 (Investing in stock with data) \n",
    "\n",
    "Continuing with Exercise 5.9, it’s reasonable to assume that the daily changes in FancyTech stock value are Normally distributed around an unknown mean of  μ with a known standard deviation of  $\\sigma = 2$ dollars.\n",
    "\n",
    "On a random sample of 4 days, you observe changes in stock value of -0.7, 1.2, 4.5, and -4 dollars.\n",
    "\n",
    "Plot the corresponding likelihood function of  μ\n",
    " \n",
    "Plot the prior pdf, likelihood function, and the posterior pdf for  μ\n",
    "\n",
    "Use summarize_normal_normal() to calculate descriptive statistics for the prior and the posterior models.\n",
    "\n",
    "Comment on how your understanding about  μ evolved from the prior (in the previous exercise) to the posterior based on the observed data.\n",
    "\n",
    "What is the posterior probability that, on average, the stock price goes down? Hint: pnorm().\n",
    "\n",
    "What is the posterior probability that, on average, your stock price goes up by more than 8 dollars per day?"
   ]
  },
  {
   "cell_type": "markdown",
   "id": "674e00ee",
   "metadata": {},
   "source": [
    "### Exercise 5.14 \n",
    " To show that posterior simulation sucks, attempt Simulate the posterior of  μ\n",
    "  for the following model upon observing a single data point  Y = 1.1:\n",
    " \n",
    " $$ Y|\\mu \\sim N(\\mu, 1^2)\\\\\n",
    "    \\mu \\sim N(0, 1^2) $$\n",
    "    \n",
    " Note that we will rarely see exactly Y =1.1, but what if we gave it a windo dY = .01 for example. Lets try that"
   ]
  },
  {
   "cell_type": "code",
   "execution_count": null,
   "id": "1cbb27fc",
   "metadata": {},
   "outputs": [],
   "source": []
  }
 ],
 "metadata": {
  "kernelspec": {
   "display_name": "Python 3 (ipykernel)",
   "language": "python",
   "name": "python3"
  },
  "language_info": {
   "codemirror_mode": {
    "name": "ipython",
    "version": 3
   },
   "file_extension": ".py",
   "mimetype": "text/x-python",
   "name": "python",
   "nbconvert_exporter": "python",
   "pygments_lexer": "ipython3",
   "version": "3.7.13"
  }
 },
 "nbformat": 4,
 "nbformat_minor": 5
}
