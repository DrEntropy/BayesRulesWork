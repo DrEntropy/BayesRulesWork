{
 "cells": [
  {
   "cell_type": "code",
   "execution_count": 23,
   "id": "b467091f",
   "metadata": {},
   "outputs": [],
   "source": [
    "import numpy as np\n",
    "import pandas as pd\n",
    "from scipy.stats import binom\n",
    "from numpy.random import default_rng"
   ]
  },
  {
   "cell_type": "markdown",
   "id": "d20c530c",
   "metadata": {},
   "source": [
    "## Exercise 2.1 \n",
    "\n",
    "a) P(B|A) > P(B)\n",
    "\n",
    "b) P(B|A) < P(B)\n",
    "\n",
    "c) P(B|A) > P(B)\n",
    "\n",
    "d) P(B|A) > P(B)\n",
    "\n",
    "## Exercise 2.2\n",
    "\n",
    "a) P(B|A) = 0.73\n",
    "\n",
    "b) P(A) = 0.20\n",
    "\n",
    "c) P(D) = 0.15\n",
    "\n",
    "d) P(D|C)  = 0.91\n",
    "\n",
    "e) P(F && E) = 0.38\n",
    "\n",
    "f) P(E|F) = 0.95\n",
    "\n",
    "## Exercise 2.3\n",
    "\n",
    "a) I dont believe the number of babies born each hour is independant of the hour. besides its not binomial in character more likely poission. \n",
    "\n",
    "b) bin(27,0.9). \n",
    "\n",
    "c) Not binimoial in character,  once she succeeds she cannot try again.\n",
    "\n",
    "d) Not binomial in character\n",
    "\n",
    "e) not binomial in chracter.\n",
    "\n",
    "f) bin (60, 0.8)\n",
    "\n",
    "## Exercise 2.4\n",
    "\n",
    "P(Vampires | sparkled ) = P(sparkled | vampire) * P(vampire) / P(sparkled)\n",
    " \n"
   ]
  },
  {
   "cell_type": "code",
   "execution_count": 2,
   "id": "8708bb33",
   "metadata": {},
   "outputs": [],
   "source": [
    "p_sparkled = 0.7*.05 + .03*.95"
   ]
  },
  {
   "cell_type": "code",
   "execution_count": 5,
   "id": "16cb9970",
   "metadata": {},
   "outputs": [
    {
     "data": {
      "text/plain": [
       "0.5511811023622046"
      ]
     },
     "execution_count": 5,
     "metadata": {},
     "output_type": "execute_result"
    }
   ],
   "source": [
    "p_vampires = .7*.05/p_sparked\n",
    "p_vampires"
   ]
  },
  {
   "cell_type": "markdown",
   "id": "0c93e71a",
   "metadata": {},
   "source": [
    "## Exercise 2.5\n"
   ]
  },
  {
   "cell_type": "code",
   "execution_count": 6,
   "id": "09ac5dd8",
   "metadata": {},
   "outputs": [],
   "source": [
    "# a)\n",
    "p_mold = 0.18"
   ]
  },
  {
   "cell_type": "markdown",
   "id": "e00d71ae",
   "metadata": {},
   "source": [
    "b)\n",
    "\n",
    "P(Maple) = P(Maple | Mold) * P(Mold) + P(Maple | No Mold) * P(No Mold)"
   ]
  },
  {
   "cell_type": "code",
   "execution_count": 8,
   "id": "b8e8d1b1",
   "metadata": {},
   "outputs": [
    {
     "data": {
      "text/plain": [
       "0.226"
      ]
     },
     "execution_count": 8,
     "metadata": {},
     "output_type": "execute_result"
    }
   ],
   "source": [
    "p_maple = 0.8*p_mold + .1*(1-p_mold)\n",
    "p_maple"
   ]
  },
  {
   "cell_type": "markdown",
   "id": "22dafc07",
   "metadata": {},
   "source": [
    "c)"
   ]
  },
  {
   "cell_type": "code",
   "execution_count": 10,
   "id": "02e52a8e",
   "metadata": {},
   "outputs": [
    {
     "data": {
      "text/plain": [
       "0.6371681415929202"
      ]
     },
     "execution_count": 10,
     "metadata": {},
     "output_type": "execute_result"
    }
   ],
   "source": [
    "p_mold_given_maple = 0.8*p_mold / p_maple\n",
    "p_mold_given_maple"
   ]
  },
  {
   "cell_type": "markdown",
   "id": "5cf6b6d3",
   "metadata": {},
   "source": [
    "d)  Learning that is maple increased the probability of the tree haven mold significantly."
   ]
  },
  {
   "cell_type": "markdown",
   "id": "7a5986ba",
   "metadata": {},
   "source": [
    "## Exercise 2.6 \n",
    "\n",
    "P(likes | less then 4 stars) = P(less then 4 stars | likes) * P(likes) /P(less then 4 stars)\n",
    "\n",
    "We need to know how many resteraunts have less then 4 stars in general, or at least what are the fraction of resteraunts she doesnt like that have less then 4 stars. We dont know this so cannot use law of total probability for example."
   ]
  },
  {
   "cell_type": "markdown",
   "id": "c03cd45c",
   "metadata": {},
   "source": [
    "## Exercise 2.13\n",
    "\n",
    "a) Posterior model has significant increase for 0.6 and maybe 0.4.  All others decreased.  So lets try: \n",
    "\n",
    "0.4: 0\n",
    "0.5: 0.2\n",
    "0.6: 0.7\n",
    "0.7: 0.1\n",
    "\n",
    "total = 1.0\n",
    "\n",
    "b) Calculate the posteiror model:\n"
   ]
  },
  {
   "cell_type": "code",
   "execution_count": 12,
   "id": "f5f04e17",
   "metadata": {},
   "outputs": [],
   "source": [
    "prior = [(0.4, 0.1), (0.5, 0.2), (0.6, .44), (0.7, 0.26)]\n",
    "posterior_unnorm = [binom.pmf(47, 80, pi ) * prior_prob for (pi, prior_prob) in prior]"
   ]
  },
  {
   "cell_type": "code",
   "execution_count": 15,
   "id": "15900271",
   "metadata": {},
   "outputs": [
    {
     "data": {
      "text/plain": [
       "array([6.49128771e-04, 1.13540381e-01, 8.33798600e-01, 5.20118903e-02])"
      ]
     },
     "execution_count": 15,
     "metadata": {},
     "output_type": "execute_result"
    }
   ],
   "source": [
    "posterior_unnorm /np.sum(posterior_unnorm)"
   ]
  },
  {
   "cell_type": "code",
   "execution_count": 16,
   "id": "41a6a310",
   "metadata": {},
   "outputs": [
    {
     "data": {
      "text/plain": [
       "array([5.05556742e-26, 2.64663968e-06, 9.99997353e-01, 1.01561140e-10])"
      ]
     },
     "execution_count": 16,
     "metadata": {},
     "output_type": "execute_result"
    }
   ],
   "source": [
    "prior = [(0.4, 0.1), (0.5, 0.2), (0.6, .44), (0.7, 0.26)]\n",
    "posterior_unnorm = [binom.pmf(470, 800, pi ) * prior_prob for (pi, prior_prob) in prior]\n",
    "posterior_unnorm /np.sum(posterior_unnorm)"
   ]
  },
  {
   "cell_type": "markdown",
   "id": "d50fc0ee",
   "metadata": {},
   "source": [
    "## Exercise 2.15\n",
    "\n",
    "a) The distribution would be more skewed to the right\n",
    "\n",
    "b) opposite of above.\n",
    "\n",
    "c) "
   ]
  },
  {
   "cell_type": "code",
   "execution_count": 19,
   "id": "9b816575",
   "metadata": {},
   "outputs": [
    {
     "data": {
      "text/plain": [
       "array([0.28107455, 0.42797815, 0.20773252, 0.08321478])"
      ]
     },
     "execution_count": 19,
     "metadata": {},
     "output_type": "execute_result"
    }
   ],
   "source": [
    "prior = [(0.6, 0.3), (0.65, 0.4), (0.7, .2), (0.75, 0.1)]\n",
    "posterior_unnorm = [binom.pmf(10, 15, pi ) * prior_prob for (pi, prior_prob) in prior]\n",
    "posterior_unnorm /np.sum(posterior_unnorm)"
   ]
  },
  {
   "cell_type": "markdown",
   "id": "59177698",
   "metadata": {},
   "source": [
    "d) I think she would have to conclude that she didnt collect enough data to change what was known from previous research?"
   ]
  },
  {
   "cell_type": "markdown",
   "id": "6eb9a271",
   "metadata": {},
   "source": [
    "## Exercise 2.16\n",
    "Sick tree simulation"
   ]
  },
  {
   "cell_type": "code",
   "execution_count": 70,
   "id": "05436325",
   "metadata": {},
   "outputs": [],
   "source": [
    "# data frame, 'Mold' and 'Type'. \n",
    "\n",
    "rng = default_rng(33)\n",
    "\n",
    "p_mold = 0.18\n",
    "\n",
    "trees = [\"Elm\", \"Maple\", \"Other\"]\n",
    "\n",
    "p_type_inf = [0.15, 0.8, 0.05]\n",
    "p_type_clear = [0.2, 0.10, 0.7]\n",
    "\n",
    "trees_sample = pd.DataFrame(data = {'Mold' : [p < p_mold for p in rng.random(10000)] })\n",
    "\n",
    "def choose_tree(mold):\n",
    "    if mold:\n",
    "        return rng.choice(trees, 1, p=p_type_inf)[0]\n",
    "    else:\n",
    "        return rng.choice(trees, 1, p=p_type_clear)[0]\n",
    "\n",
    "\n",
    "trees_sample['Type'] = trees_sample['Mold'].apply(choose_tree)\n",
    "\n",
    "# trees_sample  = [ (p < p_mold, rng.choice(trees, 1,\\\n",
    "#                   p= (p_type_inf if p < p_mold else p_type_clear))[0] ) for p in rng.random(10000)]\n",
    " "
   ]
  },
  {
   "cell_type": "code",
   "execution_count": 71,
   "id": "e4ec9664",
   "metadata": {},
   "outputs": [
    {
     "data": {
      "text/plain": [
       "8045"
      ]
     },
     "execution_count": 71,
     "metadata": {},
     "output_type": "execute_result"
    }
   ],
   "source": [
    "np.sum([1 for tree in [choose_tree(True) for x in range(10000)] if tree == 'Maple'])"
   ]
  },
  {
   "cell_type": "code",
   "execution_count": 72,
   "id": "8e000539",
   "metadata": {},
   "outputs": [
    {
     "data": {
      "text/html": [
       "<div>\n",
       "<style scoped>\n",
       "    .dataframe tbody tr th:only-of-type {\n",
       "        vertical-align: middle;\n",
       "    }\n",
       "\n",
       "    .dataframe tbody tr th {\n",
       "        vertical-align: top;\n",
       "    }\n",
       "\n",
       "    .dataframe thead th {\n",
       "        text-align: right;\n",
       "    }\n",
       "</style>\n",
       "<table border=\"1\" class=\"dataframe\">\n",
       "  <thead>\n",
       "    <tr style=\"text-align: right;\">\n",
       "      <th></th>\n",
       "      <th>Mold</th>\n",
       "      <th>Type</th>\n",
       "    </tr>\n",
       "  </thead>\n",
       "  <tbody>\n",
       "    <tr>\n",
       "      <th>0</th>\n",
       "      <td>False</td>\n",
       "      <td>Other</td>\n",
       "    </tr>\n",
       "    <tr>\n",
       "      <th>1</th>\n",
       "      <td>False</td>\n",
       "      <td>Other</td>\n",
       "    </tr>\n",
       "    <tr>\n",
       "      <th>2</th>\n",
       "      <td>False</td>\n",
       "      <td>Other</td>\n",
       "    </tr>\n",
       "    <tr>\n",
       "      <th>3</th>\n",
       "      <td>False</td>\n",
       "      <td>Elm</td>\n",
       "    </tr>\n",
       "    <tr>\n",
       "      <th>4</th>\n",
       "      <td>False</td>\n",
       "      <td>Other</td>\n",
       "    </tr>\n",
       "    <tr>\n",
       "      <th>...</th>\n",
       "      <td>...</td>\n",
       "      <td>...</td>\n",
       "    </tr>\n",
       "    <tr>\n",
       "      <th>9995</th>\n",
       "      <td>True</td>\n",
       "      <td>Maple</td>\n",
       "    </tr>\n",
       "    <tr>\n",
       "      <th>9996</th>\n",
       "      <td>False</td>\n",
       "      <td>Other</td>\n",
       "    </tr>\n",
       "    <tr>\n",
       "      <th>9997</th>\n",
       "      <td>False</td>\n",
       "      <td>Elm</td>\n",
       "    </tr>\n",
       "    <tr>\n",
       "      <th>9998</th>\n",
       "      <td>False</td>\n",
       "      <td>Other</td>\n",
       "    </tr>\n",
       "    <tr>\n",
       "      <th>9999</th>\n",
       "      <td>False</td>\n",
       "      <td>Elm</td>\n",
       "    </tr>\n",
       "  </tbody>\n",
       "</table>\n",
       "<p>10000 rows × 2 columns</p>\n",
       "</div>"
      ],
      "text/plain": [
       "       Mold   Type\n",
       "0     False  Other\n",
       "1     False  Other\n",
       "2     False  Other\n",
       "3     False    Elm\n",
       "4     False  Other\n",
       "...     ...    ...\n",
       "9995   True  Maple\n",
       "9996  False  Other\n",
       "9997  False    Elm\n",
       "9998  False  Other\n",
       "9999  False    Elm\n",
       "\n",
       "[10000 rows x 2 columns]"
      ]
     },
     "execution_count": 72,
     "metadata": {},
     "output_type": "execute_result"
    }
   ],
   "source": [
    "trees_sample"
   ]
  },
  {
   "cell_type": "code",
   "execution_count": 73,
   "id": "c0f87327",
   "metadata": {},
   "outputs": [
    {
     "data": {
      "text/plain": [
       "0.653557224922669"
      ]
     },
     "execution_count": 73,
     "metadata": {},
     "output_type": "execute_result"
    }
   ],
   "source": [
    "maples = trees_sample[trees_sample['Type']=='Maple']\n",
    "p_mold_given_maple = len(maples[maples['Mold']])/len(maples)\n",
    "p_mold_given_maple"
   ]
  },
  {
   "cell_type": "code",
   "execution_count": 74,
   "id": "7caf68e5",
   "metadata": {},
   "outputs": [
    {
     "data": {
      "text/plain": [
       "0.2263"
      ]
     },
     "execution_count": 74,
     "metadata": {},
     "output_type": "execute_result"
    }
   ],
   "source": [
    "len(maples)/10000"
   ]
  },
  {
   "cell_type": "markdown",
   "id": "65d700a0",
   "metadata": {},
   "source": [
    "Matches well !\n",
    "\n",
    "## Exercise 2.18"
   ]
  },
  {
   "cell_type": "code",
   "execution_count": 78,
   "id": "beebb2db",
   "metadata": {},
   "outputs": [],
   "source": [
    "# data frame\n",
    "\n",
    "rng = default_rng(33)\n",
    "\n",
    "pi =  [0.4, 0.5, 0.6, 0.7]\n",
    "\n",
    "prior = [0.1, 0.2, 0.44, 0.26]\n",
    "\n",
    "samples = pd.DataFrame(data = {'pi' : rng.choice(pi, 10000, p = prior)})\n",
    "samples['Count'] = samples['pi'].apply(lambda p: rng.binomial(80,p))\n",
    "\n"
   ]
  },
  {
   "cell_type": "code",
   "execution_count": 79,
   "id": "841acb24",
   "metadata": {},
   "outputs": [
    {
     "data": {
      "text/html": [
       "<div>\n",
       "<style scoped>\n",
       "    .dataframe tbody tr th:only-of-type {\n",
       "        vertical-align: middle;\n",
       "    }\n",
       "\n",
       "    .dataframe tbody tr th {\n",
       "        vertical-align: top;\n",
       "    }\n",
       "\n",
       "    .dataframe thead th {\n",
       "        text-align: right;\n",
       "    }\n",
       "</style>\n",
       "<table border=\"1\" class=\"dataframe\">\n",
       "  <thead>\n",
       "    <tr style=\"text-align: right;\">\n",
       "      <th></th>\n",
       "      <th>pi</th>\n",
       "      <th>Count</th>\n",
       "    </tr>\n",
       "  </thead>\n",
       "  <tbody>\n",
       "    <tr>\n",
       "      <th>0</th>\n",
       "      <td>0.6</td>\n",
       "      <td>45</td>\n",
       "    </tr>\n",
       "    <tr>\n",
       "      <th>1</th>\n",
       "      <td>0.6</td>\n",
       "      <td>51</td>\n",
       "    </tr>\n",
       "    <tr>\n",
       "      <th>2</th>\n",
       "      <td>0.7</td>\n",
       "      <td>61</td>\n",
       "    </tr>\n",
       "    <tr>\n",
       "      <th>3</th>\n",
       "      <td>0.5</td>\n",
       "      <td>35</td>\n",
       "    </tr>\n",
       "    <tr>\n",
       "      <th>4</th>\n",
       "      <td>0.6</td>\n",
       "      <td>50</td>\n",
       "    </tr>\n",
       "    <tr>\n",
       "      <th>...</th>\n",
       "      <td>...</td>\n",
       "      <td>...</td>\n",
       "    </tr>\n",
       "    <tr>\n",
       "      <th>9995</th>\n",
       "      <td>0.4</td>\n",
       "      <td>30</td>\n",
       "    </tr>\n",
       "    <tr>\n",
       "      <th>9996</th>\n",
       "      <td>0.6</td>\n",
       "      <td>55</td>\n",
       "    </tr>\n",
       "    <tr>\n",
       "      <th>9997</th>\n",
       "      <td>0.6</td>\n",
       "      <td>50</td>\n",
       "    </tr>\n",
       "    <tr>\n",
       "      <th>9998</th>\n",
       "      <td>0.7</td>\n",
       "      <td>56</td>\n",
       "    </tr>\n",
       "    <tr>\n",
       "      <th>9999</th>\n",
       "      <td>0.7</td>\n",
       "      <td>54</td>\n",
       "    </tr>\n",
       "  </tbody>\n",
       "</table>\n",
       "<p>10000 rows × 2 columns</p>\n",
       "</div>"
      ],
      "text/plain": [
       "       pi  Count\n",
       "0     0.6     45\n",
       "1     0.6     51\n",
       "2     0.7     61\n",
       "3     0.5     35\n",
       "4     0.6     50\n",
       "...   ...    ...\n",
       "9995  0.4     30\n",
       "9996  0.6     55\n",
       "9997  0.6     50\n",
       "9998  0.7     56\n",
       "9999  0.7     54\n",
       "\n",
       "[10000 rows x 2 columns]"
      ]
     },
     "execution_count": 79,
     "metadata": {},
     "output_type": "execute_result"
    }
   ],
   "source": [
    "samples"
   ]
  },
  {
   "cell_type": "markdown",
   "id": "68899bfc",
   "metadata": {},
   "source": [
    "Ok of those, we now find the ones that have exactly 47 "
   ]
  },
  {
   "cell_type": "code",
   "execution_count": 83,
   "id": "6f746cdc",
   "metadata": {},
   "outputs": [],
   "source": [
    "consistent_with_data = samples[samples['Count']==47].reset_index(drop=True)"
   ]
  },
  {
   "cell_type": "code",
   "execution_count": 88,
   "id": "f53fcde2",
   "metadata": {},
   "outputs": [],
   "source": [
    "counts =consistent_with_data.groupby(['pi']).count()"
   ]
  },
  {
   "cell_type": "code",
   "execution_count": 89,
   "id": "33b94bce",
   "metadata": {},
   "outputs": [
    {
     "data": {
      "text/plain": [
       "Count    444\n",
       "dtype: int64"
      ]
     },
     "execution_count": 89,
     "metadata": {},
     "output_type": "execute_result"
    }
   ],
   "source": [
    "counts.sum()"
   ]
  },
  {
   "cell_type": "code",
   "execution_count": 99,
   "id": "405a3a30",
   "metadata": {},
   "outputs": [],
   "source": [
    "counts['Post_frac'] = counts['Count'] / counts.sum()[0]"
   ]
  },
  {
   "cell_type": "code",
   "execution_count": 100,
   "id": "481595fb",
   "metadata": {},
   "outputs": [
    {
     "data": {
      "text/html": [
       "<div>\n",
       "<style scoped>\n",
       "    .dataframe tbody tr th:only-of-type {\n",
       "        vertical-align: middle;\n",
       "    }\n",
       "\n",
       "    .dataframe tbody tr th {\n",
       "        vertical-align: top;\n",
       "    }\n",
       "\n",
       "    .dataframe thead th {\n",
       "        text-align: right;\n",
       "    }\n",
       "</style>\n",
       "<table border=\"1\" class=\"dataframe\">\n",
       "  <thead>\n",
       "    <tr style=\"text-align: right;\">\n",
       "      <th></th>\n",
       "      <th>Count</th>\n",
       "      <th>Post_frac</th>\n",
       "    </tr>\n",
       "    <tr>\n",
       "      <th>pi</th>\n",
       "      <th></th>\n",
       "      <th></th>\n",
       "    </tr>\n",
       "  </thead>\n",
       "  <tbody>\n",
       "    <tr>\n",
       "      <th>0.5</th>\n",
       "      <td>54</td>\n",
       "      <td>0.121622</td>\n",
       "    </tr>\n",
       "    <tr>\n",
       "      <th>0.6</th>\n",
       "      <td>361</td>\n",
       "      <td>0.813063</td>\n",
       "    </tr>\n",
       "    <tr>\n",
       "      <th>0.7</th>\n",
       "      <td>29</td>\n",
       "      <td>0.065315</td>\n",
       "    </tr>\n",
       "  </tbody>\n",
       "</table>\n",
       "</div>"
      ],
      "text/plain": [
       "     Count  Post_frac\n",
       "pi                   \n",
       "0.5     54   0.121622\n",
       "0.6    361   0.813063\n",
       "0.7     29   0.065315"
      ]
     },
     "execution_count": 100,
     "metadata": {},
     "output_type": "execute_result"
    }
   ],
   "source": [
    "counts"
   ]
  },
  {
   "cell_type": "markdown",
   "id": "c0973ddc",
   "metadata": {},
   "source": [
    "## Exercise 2.19\n",
    "This is basically the same as 2.18"
   ]
  },
  {
   "cell_type": "code",
   "execution_count": 102,
   "id": "b27afcf8",
   "metadata": {},
   "outputs": [],
   "source": [
    "# data frame\n",
    "\n",
    "rng = default_rng(33)\n",
    "\n",
    "pi =  [0.6, 0.65, 0.7, 0.75]\n",
    "\n",
    "prior = [0.3, 0.4, 0.2, 0.1]\n",
    "\n",
    "samples = pd.DataFrame(data = {'pi' : rng.choice(pi, 10000, p = prior)})\n",
    "samples['Count'] = samples['pi'].apply(lambda p: rng.binomial(15,p))\n",
    "\n",
    "post_counts = samples[samples['Count']==10].reset_index(drop=True).groupby(['pi']).count()\n"
   ]
  },
  {
   "cell_type": "code",
   "execution_count": 103,
   "id": "d077454b",
   "metadata": {},
   "outputs": [
    {
     "data": {
      "text/plain": [
       "pi\n",
       "0.60    0.296891\n",
       "0.65    0.423270\n",
       "0.70    0.196590\n",
       "0.75    0.083250\n",
       "Name: Count, dtype: float64"
      ]
     },
     "execution_count": 103,
     "metadata": {},
     "output_type": "execute_result"
    }
   ],
   "source": [
    " post_counts['Count'] / post_counts.sum()[0]"
   ]
  },
  {
   "cell_type": "markdown",
   "id": "f78071ed",
   "metadata": {},
   "source": [
    "same conclusion, almost no effect"
   ]
  },
  {
   "cell_type": "markdown",
   "id": "10344d24",
   "metadata": {},
   "source": [
    "## Exercise 2.20\n",
    "\n",
    " Whether you like it or not, cats have taken over the internet.23 Joining the craze, Zainab has written an algorithm to detect cat images. It correctly identifies 80% of cat images as cats, but falsely identifies 50% of non-cat images as cats. Zainab tests her algorithm with a new set of images, 8% of which are cats. What’s the probability that an image is actually a cat if the algorithm identifies it as a cat? Answer this question by simulating data for 10,000 images"
   ]
  },
  {
   "cell_type": "code",
   "execution_count": 113,
   "id": "ffad0e18",
   "metadata": {},
   "outputs": [],
   "source": [
    "rng = default_rng(33)\n",
    "\n",
    "cats = pd.DataFrame(data = {'isCat' : [p < .08 for p in rng.random(10000)]})\n",
    "\n",
    "def cat_test(is_cat):\n",
    "    if is_cat:\n",
    "        return rng.random() < 0.8\n",
    "    else:\n",
    "        return rng.random() < 0.5\n",
    "\n",
    "cats[\"IdentifiedAsCat\"] = cats['isCat'].apply(cat_test)\n",
    "\n",
    "tested_true = cats[cats[\"IdentifiedAsCat\"]].reset_index(drop=True)"
   ]
  },
  {
   "cell_type": "code",
   "execution_count": 115,
   "id": "c8fc2761",
   "metadata": {},
   "outputs": [
    {
     "data": {
      "text/plain": [
       "0.13212982523526023"
      ]
     },
     "execution_count": 115,
     "metadata": {},
     "output_type": "execute_result"
    }
   ],
   "source": [
    "len(tested_true[tested_true['isCat']])/len(tested_true)"
   ]
  },
  {
   "cell_type": "markdown",
   "id": "99925d0e",
   "metadata": {},
   "source": [
    "## Exercise 2.21\n",
    "\n",
    "A medical test is designed to detect a disease that about 3% of the population has. For 93% of those who have the disease, the test yields a positive result. In addition, the test falsely yields a positive result for 7% of those without the disease. What is the probability that a person has the disease given that they have tested positive? Answer this question by simulating data for 10,000 people.\n"
   ]
  },
  {
   "cell_type": "code",
   "execution_count": 121,
   "id": "644651cc",
   "metadata": {},
   "outputs": [],
   "source": [
    "rng = default_rng(33)\n",
    "\n",
    "people = pd.DataFrame(data = {'isSick' : [p < .03 for p in rng.random(10000)]})\n",
    "\n",
    "def disease_test(is_sick):\n",
    "    if is_sick:\n",
    "        return rng.random() < 0.93\n",
    "    else:\n",
    "        return rng.random() < 0.07\n",
    "\n",
    "people[\"tested_positive\"] = people['isSick'].apply(disease_test)\n",
    "\n",
    "tested_true = people[people[\"tested_positive\"]].reset_index(drop=True)"
   ]
  },
  {
   "cell_type": "code",
   "execution_count": 122,
   "id": "a64ec9d1",
   "metadata": {},
   "outputs": [
    {
     "data": {
      "text/plain": [
       "0.3083511777301927"
      ]
     },
     "execution_count": 122,
     "metadata": {},
     "output_type": "execute_result"
    }
   ],
   "source": [
    "len(tested_true[tested_true['isSick']])/len(tested_true)"
   ]
  },
  {
   "cell_type": "code",
   "execution_count": null,
   "id": "f96de85d",
   "metadata": {},
   "outputs": [],
   "source": []
  }
 ],
 "metadata": {
  "kernelspec": {
   "display_name": "Python 3 (ipykernel)",
   "language": "python",
   "name": "python3"
  },
  "language_info": {
   "codemirror_mode": {
    "name": "ipython",
    "version": 3
   },
   "file_extension": ".py",
   "mimetype": "text/x-python",
   "name": "python",
   "nbconvert_exporter": "python",
   "pygments_lexer": "ipython3",
   "version": "3.7.11"
  }
 },
 "nbformat": 4,
 "nbformat_minor": 5
}
