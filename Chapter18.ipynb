{
 "cells": [
  {
   "cell_type": "code",
   "execution_count": 3,
   "metadata": {},
   "outputs": [],
   "source": [
    "import arviz as az\n",
    "import pandas as pd\n",
    "import matplotlib.pyplot as plt\n",
    "import numpy as np\n",
    "import pymc as pm\n",
    "import bambi as bmb\n",
    "import seaborn as sns\n"
   ]
  },
  {
   "cell_type": "markdown",
   "metadata": {},
   "source": [
    "# Chapter 18 examples"
   ]
  },
  {
   "cell_type": "code",
   "execution_count": 4,
   "metadata": {},
   "outputs": [
    {
     "data": {
      "text/html": [
       "<div>\n",
       "<style scoped>\n",
       "    .dataframe tbody tr th:only-of-type {\n",
       "        vertical-align: middle;\n",
       "    }\n",
       "\n",
       "    .dataframe tbody tr th {\n",
       "        vertical-align: top;\n",
       "    }\n",
       "\n",
       "    .dataframe thead th {\n",
       "        text-align: right;\n",
       "    }\n",
       "</style>\n",
       "<table border=\"1\" class=\"dataframe\">\n",
       "  <thead>\n",
       "    <tr style=\"text-align: right;\">\n",
       "      <th></th>\n",
       "      <th>expedition_id</th>\n",
       "      <th>member_id</th>\n",
       "      <th>success</th>\n",
       "      <th>year</th>\n",
       "      <th>season</th>\n",
       "      <th>age</th>\n",
       "      <th>expedition_role</th>\n",
       "      <th>oxygen_used</th>\n",
       "    </tr>\n",
       "  </thead>\n",
       "  <tbody>\n",
       "    <tr>\n",
       "      <th>0</th>\n",
       "      <td>AMAD81101</td>\n",
       "      <td>AMAD81101-03</td>\n",
       "      <td>True</td>\n",
       "      <td>1981</td>\n",
       "      <td>Spring</td>\n",
       "      <td>28</td>\n",
       "      <td>Climber</td>\n",
       "      <td>False</td>\n",
       "    </tr>\n",
       "    <tr>\n",
       "      <th>1</th>\n",
       "      <td>AMAD81101</td>\n",
       "      <td>AMAD81101-04</td>\n",
       "      <td>True</td>\n",
       "      <td>1981</td>\n",
       "      <td>Spring</td>\n",
       "      <td>27</td>\n",
       "      <td>Exp Doctor</td>\n",
       "      <td>False</td>\n",
       "    </tr>\n",
       "    <tr>\n",
       "      <th>2</th>\n",
       "      <td>AMAD81101</td>\n",
       "      <td>AMAD81101-02</td>\n",
       "      <td>True</td>\n",
       "      <td>1981</td>\n",
       "      <td>Spring</td>\n",
       "      <td>35</td>\n",
       "      <td>Deputy Leader</td>\n",
       "      <td>False</td>\n",
       "    </tr>\n",
       "    <tr>\n",
       "      <th>3</th>\n",
       "      <td>AMAD81101</td>\n",
       "      <td>AMAD81101-05</td>\n",
       "      <td>True</td>\n",
       "      <td>1981</td>\n",
       "      <td>Spring</td>\n",
       "      <td>37</td>\n",
       "      <td>Climber</td>\n",
       "      <td>False</td>\n",
       "    </tr>\n",
       "    <tr>\n",
       "      <th>4</th>\n",
       "      <td>AMAD81101</td>\n",
       "      <td>AMAD81101-06</td>\n",
       "      <td>True</td>\n",
       "      <td>1981</td>\n",
       "      <td>Spring</td>\n",
       "      <td>43</td>\n",
       "      <td>Climber</td>\n",
       "      <td>False</td>\n",
       "    </tr>\n",
       "  </tbody>\n",
       "</table>\n",
       "</div>"
      ],
      "text/plain": [
       "  expedition_id     member_id  success  year  season  age expedition_role  \\\n",
       "0     AMAD81101  AMAD81101-03     True  1981  Spring   28         Climber   \n",
       "1     AMAD81101  AMAD81101-04     True  1981  Spring   27      Exp Doctor   \n",
       "2     AMAD81101  AMAD81101-02     True  1981  Spring   35   Deputy Leader   \n",
       "3     AMAD81101  AMAD81101-05     True  1981  Spring   37         Climber   \n",
       "4     AMAD81101  AMAD81101-06     True  1981  Spring   43         Climber   \n",
       "\n",
       "   oxygen_used  \n",
       "0        False  \n",
       "1        False  \n",
       "2        False  \n",
       "3        False  \n",
       "4        False  "
      ]
     },
     "execution_count": 4,
     "metadata": {},
     "output_type": "execute_result"
    }
   ],
   "source": [
    "climbers = pd.read_csv(\"climbers.csv\")\n",
    "climbers.head()"
   ]
  },
  {
   "cell_type": "code",
   "execution_count": 5,
   "metadata": {},
   "outputs": [
    {
     "data": {
      "text/html": [
       "<div>\n",
       "<style scoped>\n",
       "    .dataframe tbody tr th:only-of-type {\n",
       "        vertical-align: middle;\n",
       "    }\n",
       "\n",
       "    .dataframe tbody tr th {\n",
       "        vertical-align: top;\n",
       "    }\n",
       "\n",
       "    .dataframe thead th {\n",
       "        text-align: right;\n",
       "    }\n",
       "</style>\n",
       "<table border=\"1\" class=\"dataframe\">\n",
       "  <thead>\n",
       "    <tr style=\"text-align: right;\">\n",
       "      <th></th>\n",
       "      <th>count</th>\n",
       "      <th>percent</th>\n",
       "    </tr>\n",
       "    <tr>\n",
       "      <th>success</th>\n",
       "      <th></th>\n",
       "      <th></th>\n",
       "    </tr>\n",
       "  </thead>\n",
       "  <tbody>\n",
       "    <tr>\n",
       "      <th>False</th>\n",
       "      <td>1269</td>\n",
       "      <td>0.611272</td>\n",
       "    </tr>\n",
       "    <tr>\n",
       "      <th>True</th>\n",
       "      <td>807</td>\n",
       "      <td>0.388728</td>\n",
       "    </tr>\n",
       "  </tbody>\n",
       "</table>\n",
       "</div>"
      ],
      "text/plain": [
       "         count   percent\n",
       "success                 \n",
       "False     1269  0.611272\n",
       "True       807  0.388728"
      ]
     },
     "execution_count": 5,
     "metadata": {},
     "output_type": "execute_result"
    }
   ],
   "source": [
    "\n",
    "total = climbers.shape[0]\n",
    "climbers[['success','member_id']].groupby('success').count().assign(percent = lambda x: x.member_id/total).rename(columns = {'member_id':'count'})"
   ]
  },
  {
   "cell_type": "markdown",
   "metadata": {},
   "source": [
    "Binomial model"
   ]
  },
  {
   "cell_type": "code",
   "execution_count": 35,
   "metadata": {},
   "outputs": [
    {
     "data": {
      "text/plain": [
       "Formula: success ~ age + oxygen_used + (1|expedition_id)\n",
       "Family name: Bernoulli\n",
       "Link: logit\n",
       "Observations: 2076\n",
       "Priors:\n",
       "  Common-level effects\n",
       "    Intercept ~ Normal(mu: 0, sigma: 9.3311)\n",
       "    age ~ Normal(mu: 0.0, sigma: 0.2394)\n",
       "    oxygen_used ~ Normal(mu: 0.0, sigma: 5.5123)\n",
       "\n",
       "  Group-level effects\n",
       "    1|expedition_id ~ Normal(mu: 0, sigma: HalfNormal(sigma: 9.3311))"
      ]
     },
     "execution_count": 35,
     "metadata": {},
     "output_type": "execute_result"
    }
   ],
   "source": [
    "model1 = bmb.Model('success ~ age + oxygen_used + (1|expedition_id)',data = climbers, family=\"bernoulli\")\n",
    "model1.build()\n",
    "model1"
   ]
  },
  {
   "cell_type": "code",
   "execution_count": 36,
   "metadata": {},
   "outputs": [
    {
     "name": "stderr",
     "output_type": "stream",
     "text": [
      "Modeling the probability that success==1\n",
      "Auto-assigning NUTS sampler...\n",
      "Initializing NUTS using jitter+adapt_diag...\n",
      "Multiprocess sampling (4 chains in 4 jobs)\n",
      "NUTS: [Intercept, age, oxygen_used, 1|expedition_id_sigma, 1|expedition_id_offset]\n"
     ]
    },
    {
     "data": {
      "text/html": [
       "\n",
       "<style>\n",
       "    /* Turns off some styling */\n",
       "    progress {\n",
       "        /* gets rid of default border in Firefox and Opera. */\n",
       "        border: none;\n",
       "        /* Needs to be in here for Safari polyfill so background images work as expected. */\n",
       "        background-size: auto;\n",
       "    }\n",
       "    progress:not([value]), progress:not([value])::-webkit-progress-bar {\n",
       "        background: repeating-linear-gradient(45deg, #7e7e7e, #7e7e7e 10px, #5c5c5c 10px, #5c5c5c 20px);\n",
       "    }\n",
       "    .progress-bar-interrupted, .progress-bar-interrupted::-webkit-progress-bar {\n",
       "        background: #F44336;\n",
       "    }\n",
       "</style>\n"
      ],
      "text/plain": [
       "<IPython.core.display.HTML object>"
      ]
     },
     "metadata": {},
     "output_type": "display_data"
    },
    {
     "data": {
      "text/html": [
       "\n",
       "    <div>\n",
       "      <progress value='8000' class='' max='8000' style='width:300px; height:20px; vertical-align: middle;'></progress>\n",
       "      100.00% [8000/8000 00:56&lt;00:00 Sampling 4 chains, 0 divergences]\n",
       "    </div>\n",
       "    "
      ],
      "text/plain": [
       "<IPython.core.display.HTML object>"
      ]
     },
     "metadata": {},
     "output_type": "display_data"
    },
    {
     "name": "stderr",
     "output_type": "stream",
     "text": [
      "/Users/ronaldlegere/opt/anaconda3/envs/BayesRules/lib/python3.7/site-packages/scipy/stats/_continuous_distns.py:624: RuntimeWarning: overflow encountered in _beta_ppf\n",
      "  return _boost._beta_ppf(q, a, b)\n",
      "/Users/ronaldlegere/opt/anaconda3/envs/BayesRules/lib/python3.7/site-packages/scipy/stats/_continuous_distns.py:624: RuntimeWarning: overflow encountered in _beta_ppf\n",
      "  return _boost._beta_ppf(q, a, b)\n",
      "Sampling 4 chains for 1_000 tune and 1_000 draw iterations (4_000 + 4_000 draws total) took 72 seconds.\n"
     ]
    },
    {
     "data": {
      "text/html": [
       "<div>\n",
       "<style scoped>\n",
       "    .dataframe tbody tr th:only-of-type {\n",
       "        vertical-align: middle;\n",
       "    }\n",
       "\n",
       "    .dataframe tbody tr th {\n",
       "        vertical-align: top;\n",
       "    }\n",
       "\n",
       "    .dataframe thead th {\n",
       "        text-align: right;\n",
       "    }\n",
       "</style>\n",
       "<table border=\"1\" class=\"dataframe\">\n",
       "  <thead>\n",
       "    <tr style=\"text-align: right;\">\n",
       "      <th></th>\n",
       "      <th>mean</th>\n",
       "      <th>sd</th>\n",
       "      <th>hdi_3%</th>\n",
       "      <th>hdi_97%</th>\n",
       "      <th>mcse_mean</th>\n",
       "      <th>mcse_sd</th>\n",
       "      <th>ess_bulk</th>\n",
       "      <th>ess_tail</th>\n",
       "      <th>r_hat</th>\n",
       "    </tr>\n",
       "  </thead>\n",
       "  <tbody>\n",
       "    <tr>\n",
       "      <th>Intercept</th>\n",
       "      <td>-1.502</td>\n",
       "      <td>0.495</td>\n",
       "      <td>-2.456</td>\n",
       "      <td>-0.619</td>\n",
       "      <td>0.014</td>\n",
       "      <td>0.010</td>\n",
       "      <td>1186.0</td>\n",
       "      <td>1908.0</td>\n",
       "      <td>1.0</td>\n",
       "    </tr>\n",
       "    <tr>\n",
       "      <th>age</th>\n",
       "      <td>-0.048</td>\n",
       "      <td>0.009</td>\n",
       "      <td>-0.065</td>\n",
       "      <td>-0.030</td>\n",
       "      <td>0.000</td>\n",
       "      <td>0.000</td>\n",
       "      <td>5191.0</td>\n",
       "      <td>3267.0</td>\n",
       "      <td>1.0</td>\n",
       "    </tr>\n",
       "    <tr>\n",
       "      <th>oxygen_used</th>\n",
       "      <td>5.903</td>\n",
       "      <td>0.500</td>\n",
       "      <td>4.963</td>\n",
       "      <td>6.819</td>\n",
       "      <td>0.013</td>\n",
       "      <td>0.009</td>\n",
       "      <td>1467.0</td>\n",
       "      <td>2161.0</td>\n",
       "      <td>1.0</td>\n",
       "    </tr>\n",
       "    <tr>\n",
       "      <th>1|expedition_id_sigma</th>\n",
       "      <td>3.755</td>\n",
       "      <td>0.370</td>\n",
       "      <td>3.071</td>\n",
       "      <td>4.443</td>\n",
       "      <td>0.012</td>\n",
       "      <td>0.008</td>\n",
       "      <td>982.0</td>\n",
       "      <td>1788.0</td>\n",
       "      <td>1.0</td>\n",
       "    </tr>\n",
       "    <tr>\n",
       "      <th>1|expedition_id[AMAD03107]</th>\n",
       "      <td>2.670</td>\n",
       "      <td>1.079</td>\n",
       "      <td>0.496</td>\n",
       "      <td>4.558</td>\n",
       "      <td>0.020</td>\n",
       "      <td>0.014</td>\n",
       "      <td>2840.0</td>\n",
       "      <td>2569.0</td>\n",
       "      <td>1.0</td>\n",
       "    </tr>\n",
       "    <tr>\n",
       "      <th>...</th>\n",
       "      <td>...</td>\n",
       "      <td>...</td>\n",
       "      <td>...</td>\n",
       "      <td>...</td>\n",
       "      <td>...</td>\n",
       "      <td>...</td>\n",
       "      <td>...</td>\n",
       "      <td>...</td>\n",
       "      <td>...</td>\n",
       "    </tr>\n",
       "    <tr>\n",
       "      <th>1|expedition_id[TILI91302]</th>\n",
       "      <td>1.765</td>\n",
       "      <td>0.933</td>\n",
       "      <td>0.031</td>\n",
       "      <td>3.440</td>\n",
       "      <td>0.019</td>\n",
       "      <td>0.013</td>\n",
       "      <td>2442.0</td>\n",
       "      <td>2196.0</td>\n",
       "      <td>1.0</td>\n",
       "    </tr>\n",
       "    <tr>\n",
       "      <th>1|expedition_id[TILI92301]</th>\n",
       "      <td>-2.745</td>\n",
       "      <td>2.405</td>\n",
       "      <td>-7.255</td>\n",
       "      <td>1.303</td>\n",
       "      <td>0.041</td>\n",
       "      <td>0.034</td>\n",
       "      <td>4194.0</td>\n",
       "      <td>2836.0</td>\n",
       "      <td>1.0</td>\n",
       "    </tr>\n",
       "    <tr>\n",
       "      <th>1|expedition_id[TKPO02102]</th>\n",
       "      <td>-2.714</td>\n",
       "      <td>2.413</td>\n",
       "      <td>-7.423</td>\n",
       "      <td>1.175</td>\n",
       "      <td>0.039</td>\n",
       "      <td>0.033</td>\n",
       "      <td>4378.0</td>\n",
       "      <td>2876.0</td>\n",
       "      <td>1.0</td>\n",
       "    </tr>\n",
       "    <tr>\n",
       "      <th>1|expedition_id[TUKU05101]</th>\n",
       "      <td>-2.285</td>\n",
       "      <td>2.617</td>\n",
       "      <td>-7.202</td>\n",
       "      <td>2.334</td>\n",
       "      <td>0.040</td>\n",
       "      <td>0.035</td>\n",
       "      <td>4846.0</td>\n",
       "      <td>2966.0</td>\n",
       "      <td>1.0</td>\n",
       "    </tr>\n",
       "    <tr>\n",
       "      <th>1|expedition_id[TUKU16301]</th>\n",
       "      <td>7.479</td>\n",
       "      <td>1.764</td>\n",
       "      <td>4.809</td>\n",
       "      <td>10.951</td>\n",
       "      <td>0.033</td>\n",
       "      <td>0.026</td>\n",
       "      <td>3783.0</td>\n",
       "      <td>2118.0</td>\n",
       "      <td>1.0</td>\n",
       "    </tr>\n",
       "  </tbody>\n",
       "</table>\n",
       "<p>204 rows × 9 columns</p>\n",
       "</div>"
      ],
      "text/plain": [
       "                             mean     sd  hdi_3%  hdi_97%  mcse_mean  mcse_sd  \\\n",
       "Intercept                  -1.502  0.495  -2.456   -0.619      0.014    0.010   \n",
       "age                        -0.048  0.009  -0.065   -0.030      0.000    0.000   \n",
       "oxygen_used                 5.903  0.500   4.963    6.819      0.013    0.009   \n",
       "1|expedition_id_sigma       3.755  0.370   3.071    4.443      0.012    0.008   \n",
       "1|expedition_id[AMAD03107]  2.670  1.079   0.496    4.558      0.020    0.014   \n",
       "...                           ...    ...     ...      ...        ...      ...   \n",
       "1|expedition_id[TILI91302]  1.765  0.933   0.031    3.440      0.019    0.013   \n",
       "1|expedition_id[TILI92301] -2.745  2.405  -7.255    1.303      0.041    0.034   \n",
       "1|expedition_id[TKPO02102] -2.714  2.413  -7.423    1.175      0.039    0.033   \n",
       "1|expedition_id[TUKU05101] -2.285  2.617  -7.202    2.334      0.040    0.035   \n",
       "1|expedition_id[TUKU16301]  7.479  1.764   4.809   10.951      0.033    0.026   \n",
       "\n",
       "                            ess_bulk  ess_tail  r_hat  \n",
       "Intercept                     1186.0    1908.0    1.0  \n",
       "age                           5191.0    3267.0    1.0  \n",
       "oxygen_used                   1467.0    2161.0    1.0  \n",
       "1|expedition_id_sigma          982.0    1788.0    1.0  \n",
       "1|expedition_id[AMAD03107]    2840.0    2569.0    1.0  \n",
       "...                              ...       ...    ...  \n",
       "1|expedition_id[TILI91302]    2442.0    2196.0    1.0  \n",
       "1|expedition_id[TILI92301]    4194.0    2836.0    1.0  \n",
       "1|expedition_id[TKPO02102]    4378.0    2876.0    1.0  \n",
       "1|expedition_id[TUKU05101]    4846.0    2966.0    1.0  \n",
       "1|expedition_id[TUKU16301]    3783.0    2118.0    1.0  \n",
       "\n",
       "[204 rows x 9 columns]"
      ]
     },
     "execution_count": 36,
     "metadata": {},
     "output_type": "execute_result"
    }
   ],
   "source": [
    "results = model1.fit()\n",
    "az.summary(results, hdi_prob=0.8)"
   ]
  },
  {
   "cell_type": "code",
   "execution_count": 53,
   "metadata": {},
   "outputs": [],
   "source": [
    "model1.predict(results,kind='pps')\n",
    "post_pred = results.posterior_predictive.to_dataframe().reset_index()"
   ]
  },
  {
   "cell_type": "markdown",
   "metadata": {},
   "source": [
    "Each draw contains a prediction now for each of the climbers.  We can use this to manually check that the results make sense"
   ]
  },
  {
   "cell_type": "code",
   "execution_count": 55,
   "metadata": {},
   "outputs": [
    {
     "data": {
      "text/plain": [
       "<AxesSubplot:>"
      ]
     },
     "execution_count": 55,
     "metadata": {},
     "output_type": "execute_result"
    },
    {
     "data": {
      "image/png": "[encoded data removed]",
      "text/plain": [
       "<Figure size 432x288 with 1 Axes>"
      ]
     },
     "metadata": {
      "needs_background": "light"
     },
     "output_type": "display_data"
    }
   ],
   "source": [
    "post_pred.groupby(['chain','draw']).mean()['success'].hist()"
   ]
  },
  {
   "cell_type": "markdown",
   "metadata": {},
   "source": [
    "Also would like to check that the accuracy.  Keep in mind that we have 2076 predictions for each draw. Below is the predicted probability of success for the first climber. This climber did succeed. "
   ]
  },
  {
   "cell_type": "code",
   "execution_count": 77,
   "metadata": {},
   "outputs": [
    {
     "data": {
      "text/html": [
       "<div>\n",
       "<style scoped>\n",
       "    .dataframe tbody tr th:only-of-type {\n",
       "        vertical-align: middle;\n",
       "    }\n",
       "\n",
       "    .dataframe tbody tr th {\n",
       "        vertical-align: top;\n",
       "    }\n",
       "\n",
       "    .dataframe thead th {\n",
       "        text-align: right;\n",
       "    }\n",
       "</style>\n",
       "<table border=\"1\" class=\"dataframe\">\n",
       "  <thead>\n",
       "    <tr style=\"text-align: right;\">\n",
       "      <th></th>\n",
       "      <th>chain</th>\n",
       "      <th>draw</th>\n",
       "      <th>success_dim_0</th>\n",
       "      <th>success</th>\n",
       "    </tr>\n",
       "  </thead>\n",
       "  <tbody>\n",
       "    <tr>\n",
       "      <th>0</th>\n",
       "      <td>0</td>\n",
       "      <td>0</td>\n",
       "      <td>0</td>\n",
       "      <td>1</td>\n",
       "    </tr>\n",
       "    <tr>\n",
       "      <th>1</th>\n",
       "      <td>0</td>\n",
       "      <td>0</td>\n",
       "      <td>1</td>\n",
       "      <td>1</td>\n",
       "    </tr>\n",
       "    <tr>\n",
       "      <th>2</th>\n",
       "      <td>0</td>\n",
       "      <td>0</td>\n",
       "      <td>2</td>\n",
       "      <td>1</td>\n",
       "    </tr>\n",
       "    <tr>\n",
       "      <th>3</th>\n",
       "      <td>0</td>\n",
       "      <td>0</td>\n",
       "      <td>3</td>\n",
       "      <td>1</td>\n",
       "    </tr>\n",
       "    <tr>\n",
       "      <th>4</th>\n",
       "      <td>0</td>\n",
       "      <td>0</td>\n",
       "      <td>4</td>\n",
       "      <td>1</td>\n",
       "    </tr>\n",
       "  </tbody>\n",
       "</table>\n",
       "</div>"
      ],
      "text/plain": [
       "   chain  draw  success_dim_0  success\n",
       "0      0     0              0        1\n",
       "1      0     0              1        1\n",
       "2      0     0              2        1\n",
       "3      0     0              3        1\n",
       "4      0     0              4        1"
      ]
     },
     "execution_count": 77,
     "metadata": {},
     "output_type": "execute_result"
    }
   ],
   "source": [
    "post_pred.head()"
   ]
  },
  {
   "cell_type": "code",
   "execution_count": 74,
   "metadata": {},
   "outputs": [
    {
     "data": {
      "text/html": [
       "<div>\n",
       "<style scoped>\n",
       "    .dataframe tbody tr th:only-of-type {\n",
       "        vertical-align: middle;\n",
       "    }\n",
       "\n",
       "    .dataframe tbody tr th {\n",
       "        vertical-align: top;\n",
       "    }\n",
       "\n",
       "    .dataframe thead th {\n",
       "        text-align: right;\n",
       "    }\n",
       "</style>\n",
       "<table border=\"1\" class=\"dataframe\">\n",
       "  <thead>\n",
       "    <tr style=\"text-align: right;\">\n",
       "      <th></th>\n",
       "      <th>expedition_id</th>\n",
       "      <th>member_id</th>\n",
       "      <th>success</th>\n",
       "      <th>year</th>\n",
       "      <th>season</th>\n",
       "      <th>age</th>\n",
       "      <th>expedition_role</th>\n",
       "      <th>oxygen_used</th>\n",
       "      <th>pred_prob</th>\n",
       "    </tr>\n",
       "  </thead>\n",
       "  <tbody>\n",
       "    <tr>\n",
       "      <th>0</th>\n",
       "      <td>AMAD81101</td>\n",
       "      <td>AMAD81101-03</td>\n",
       "      <td>True</td>\n",
       "      <td>1981</td>\n",
       "      <td>Spring</td>\n",
       "      <td>28</td>\n",
       "      <td>Climber</td>\n",
       "      <td>False</td>\n",
       "      <td>0.84075</td>\n",
       "    </tr>\n",
       "    <tr>\n",
       "      <th>1</th>\n",
       "      <td>AMAD81101</td>\n",
       "      <td>AMAD81101-04</td>\n",
       "      <td>True</td>\n",
       "      <td>1981</td>\n",
       "      <td>Spring</td>\n",
       "      <td>27</td>\n",
       "      <td>Exp Doctor</td>\n",
       "      <td>False</td>\n",
       "      <td>0.84650</td>\n",
       "    </tr>\n",
       "    <tr>\n",
       "      <th>2</th>\n",
       "      <td>AMAD81101</td>\n",
       "      <td>AMAD81101-02</td>\n",
       "      <td>True</td>\n",
       "      <td>1981</td>\n",
       "      <td>Spring</td>\n",
       "      <td>35</td>\n",
       "      <td>Deputy Leader</td>\n",
       "      <td>False</td>\n",
       "      <td>0.79250</td>\n",
       "    </tr>\n",
       "    <tr>\n",
       "      <th>3</th>\n",
       "      <td>AMAD81101</td>\n",
       "      <td>AMAD81101-05</td>\n",
       "      <td>True</td>\n",
       "      <td>1981</td>\n",
       "      <td>Spring</td>\n",
       "      <td>37</td>\n",
       "      <td>Climber</td>\n",
       "      <td>False</td>\n",
       "      <td>0.77550</td>\n",
       "    </tr>\n",
       "    <tr>\n",
       "      <th>4</th>\n",
       "      <td>AMAD81101</td>\n",
       "      <td>AMAD81101-06</td>\n",
       "      <td>True</td>\n",
       "      <td>1981</td>\n",
       "      <td>Spring</td>\n",
       "      <td>43</td>\n",
       "      <td>Climber</td>\n",
       "      <td>False</td>\n",
       "      <td>0.73375</td>\n",
       "    </tr>\n",
       "  </tbody>\n",
       "</table>\n",
       "</div>"
      ],
      "text/plain": [
       "  expedition_id     member_id  success  year  season  age expedition_role  \\\n",
       "0     AMAD81101  AMAD81101-03     True  1981  Spring   28         Climber   \n",
       "1     AMAD81101  AMAD81101-04     True  1981  Spring   27      Exp Doctor   \n",
       "2     AMAD81101  AMAD81101-02     True  1981  Spring   35   Deputy Leader   \n",
       "3     AMAD81101  AMAD81101-05     True  1981  Spring   37         Climber   \n",
       "4     AMAD81101  AMAD81101-06     True  1981  Spring   43         Climber   \n",
       "\n",
       "   oxygen_used  pred_prob  \n",
       "0        False    0.84075  \n",
       "1        False    0.84650  \n",
       "2        False    0.79250  \n",
       "3        False    0.77550  \n",
       "4        False    0.73375  "
      ]
     },
     "execution_count": 74,
     "metadata": {},
     "output_type": "execute_result"
    }
   ],
   "source": [
    "climbers['pred_prob'] = post_pred.groupby('success_dim_0').mean()['success']\n",
    "climbers.head()"
   ]
  },
  {
   "cell_type": "code",
   "execution_count": 76,
   "metadata": {},
   "outputs": [
    {
     "data": {
      "text/plain": [
       "0.9157032755298651"
      ]
     },
     "execution_count": 76,
     "metadata": {},
     "output_type": "execute_result"
    }
   ],
   "source": [
    "climbers['pred_success'] = climbers.pred_prob > 0.5\n",
    "(climbers['pred_success'] == climbers['success']).mean()"
   ]
  },
  {
   "cell_type": "markdown",
   "metadata": {},
   "source": [
    "So the model is 91.6% accurate at predicting on the TEST data. "
   ]
  },
  {
   "cell_type": "markdown",
   "metadata": {},
   "source": [
    "### Posterior median model (fig 18.4)\n",
    " I think for this we *could* use the 'ignore group effects' posterior prediction, because that does seem to be what the book is plotting, and I can see how it could be considered relavevent.  I could use new_data for this with a range of ages, and possibly use az.plot_hdi. But i think it is much much easier to simply use the logit link and compute directly. "
   ]
  },
  {
   "cell_type": "markdown",
   "metadata": {},
   "source": [
    "### verifying prediction of row one"
   ]
  },
  {
   "cell_type": "code",
   "execution_count": 62,
   "metadata": {},
   "outputs": [],
   "source": [
    "temp = model1.predict(results,kind='pps', data = pd.DataFrame({'age' : [28], 'oxygen_used' : 0, 'expedition_id' :'AMAD81101' }),inplace=False)"
   ]
  },
  {
   "cell_type": "code",
   "execution_count": 63,
   "metadata": {},
   "outputs": [
    {
     "data": {
      "text/plain": [
       "0.83375"
      ]
     },
     "execution_count": 63,
     "metadata": {},
     "output_type": "execute_result"
    }
   ],
   "source": [
    "temp.posterior_predictive.to_dataframe()['success'].mean()"
   ]
  },
  {
   "cell_type": "markdown",
   "metadata": {},
   "source": [
    "To do the 4 climbers on a new expedition, we have to do it manually, which is fine.  Just chose any expedition and grab all the group level effects"
   ]
  },
  {
   "cell_type": "code",
   "execution_count": 84,
   "metadata": {},
   "outputs": [
    {
     "data": {
      "text/html": [
       "<div>\n",
       "<style scoped>\n",
       "    .dataframe tbody tr th:only-of-type {\n",
       "        vertical-align: middle;\n",
       "    }\n",
       "\n",
       "    .dataframe tbody tr th {\n",
       "        vertical-align: top;\n",
       "    }\n",
       "\n",
       "    .dataframe thead th {\n",
       "        text-align: right;\n",
       "    }\n",
       "</style>\n",
       "<table border=\"1\" class=\"dataframe\">\n",
       "  <thead>\n",
       "    <tr style=\"text-align: right;\">\n",
       "      <th></th>\n",
       "      <th>Intercept</th>\n",
       "      <th>age</th>\n",
       "      <th>oxygen_used</th>\n",
       "      <th>1|expedition_id_sigma</th>\n",
       "    </tr>\n",
       "  </thead>\n",
       "  <tbody>\n",
       "    <tr>\n",
       "      <th>0</th>\n",
       "      <td>-1.011424</td>\n",
       "      <td>-0.059907</td>\n",
       "      <td>6.187956</td>\n",
       "      <td>3.779178</td>\n",
       "    </tr>\n",
       "    <tr>\n",
       "      <th>1</th>\n",
       "      <td>-1.211941</td>\n",
       "      <td>-0.058411</td>\n",
       "      <td>6.400901</td>\n",
       "      <td>4.117817</td>\n",
       "    </tr>\n",
       "    <tr>\n",
       "      <th>2</th>\n",
       "      <td>-1.938324</td>\n",
       "      <td>-0.036875</td>\n",
       "      <td>5.719473</td>\n",
       "      <td>3.453481</td>\n",
       "    </tr>\n",
       "    <tr>\n",
       "      <th>3</th>\n",
       "      <td>-1.113213</td>\n",
       "      <td>-0.051222</td>\n",
       "      <td>6.030923</td>\n",
       "      <td>3.500494</td>\n",
       "    </tr>\n",
       "    <tr>\n",
       "      <th>4</th>\n",
       "      <td>-1.538789</td>\n",
       "      <td>-0.047257</td>\n",
       "      <td>5.865151</td>\n",
       "      <td>3.487213</td>\n",
       "    </tr>\n",
       "    <tr>\n",
       "      <th>...</th>\n",
       "      <td>...</td>\n",
       "      <td>...</td>\n",
       "      <td>...</td>\n",
       "      <td>...</td>\n",
       "    </tr>\n",
       "    <tr>\n",
       "      <th>3995</th>\n",
       "      <td>-1.366546</td>\n",
       "      <td>-0.044234</td>\n",
       "      <td>5.594293</td>\n",
       "      <td>3.474164</td>\n",
       "    </tr>\n",
       "    <tr>\n",
       "      <th>3996</th>\n",
       "      <td>-1.689224</td>\n",
       "      <td>-0.055159</td>\n",
       "      <td>6.477721</td>\n",
       "      <td>3.722529</td>\n",
       "    </tr>\n",
       "    <tr>\n",
       "      <th>3997</th>\n",
       "      <td>-1.397711</td>\n",
       "      <td>-0.056377</td>\n",
       "      <td>6.087543</td>\n",
       "      <td>3.505629</td>\n",
       "    </tr>\n",
       "    <tr>\n",
       "      <th>3998</th>\n",
       "      <td>-2.122478</td>\n",
       "      <td>-0.040731</td>\n",
       "      <td>6.059484</td>\n",
       "      <td>3.605083</td>\n",
       "    </tr>\n",
       "    <tr>\n",
       "      <th>3999</th>\n",
       "      <td>-2.270866</td>\n",
       "      <td>-0.038164</td>\n",
       "      <td>6.075913</td>\n",
       "      <td>3.440839</td>\n",
       "    </tr>\n",
       "  </tbody>\n",
       "</table>\n",
       "<p>4000 rows × 4 columns</p>\n",
       "</div>"
      ],
      "text/plain": [
       "      Intercept       age  oxygen_used  1|expedition_id_sigma\n",
       "0     -1.011424 -0.059907     6.187956               3.779178\n",
       "1     -1.211941 -0.058411     6.400901               4.117817\n",
       "2     -1.938324 -0.036875     5.719473               3.453481\n",
       "3     -1.113213 -0.051222     6.030923               3.500494\n",
       "4     -1.538789 -0.047257     5.865151               3.487213\n",
       "...         ...       ...          ...                    ...\n",
       "3995  -1.366546 -0.044234     5.594293               3.474164\n",
       "3996  -1.689224 -0.055159     6.477721               3.722529\n",
       "3997  -1.397711 -0.056377     6.087543               3.505629\n",
       "3998  -2.122478 -0.040731     6.059484               3.605083\n",
       "3999  -2.270866 -0.038164     6.075913               3.440839\n",
       "\n",
       "[4000 rows x 4 columns]"
      ]
     },
     "execution_count": 84,
     "metadata": {},
     "output_type": "execute_result"
    }
   ],
   "source": [
    "post_df_new = results.posterior.to_dataframe().query(\"expedition_id__factor_dim == 'AMAD03107'\").reset_index()[['Intercept','age','oxygen_used','1|expedition_id_sigma']]\n",
    "post_df_new"
   ]
  },
  {
   "cell_type": "markdown",
   "metadata": {},
   "source": [
    "These are the samples I need to compute new predictions for a new group. "
   ]
  },
  {
   "cell_type": "code",
   "execution_count": null,
   "metadata": {},
   "outputs": [],
   "source": []
  }
 ],
 "metadata": {
  "kernelspec": {
   "display_name": "Python 3.7.13 ('BayesRules')",
   "language": "python",
   "name": "python3"
  },
  "language_info": {
   "codemirror_mode": {
    "name": "ipython",
    "version": 3
   },
   "file_extension": ".py",
   "mimetype": "text/x-python",
   "name": "python",
   "nbconvert_exporter": "python",
   "pygments_lexer": "ipython3",
   "version": "3.7.13"
  },
  "orig_nbformat": 4,
  "vscode": {
   "interpreter": {
    "hash": "535ddf886a860b39d22adffcd3d06703d2d6d18ab4f8a0bdf2913837e7909368"
   }
  }
 },
 "nbformat": 4,
 "nbformat_minor": 2
}
