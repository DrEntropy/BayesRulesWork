{
 "cells": [
  {
   "cell_type": "code",
   "execution_count": 1,
   "metadata": {},
   "outputs": [],
   "source": [
    "import arviz as az\n",
    "import pandas as pd\n",
    "import matplotlib.pyplot as plt\n",
    "import numpy as np\n",
    "import pymc as pm\n",
    "import bambi as bmb\n",
    "import seaborn as sns\n"
   ]
  },
  {
   "cell_type": "markdown",
   "metadata": {},
   "source": [
    "# Chapter 18 examples"
   ]
  },
  {
   "cell_type": "code",
   "execution_count": 2,
   "metadata": {},
   "outputs": [
    {
     "data": {
      "text/html": [
       "<div>\n",
       "<style scoped>\n",
       "    .dataframe tbody tr th:only-of-type {\n",
       "        vertical-align: middle;\n",
       "    }\n",
       "\n",
       "    .dataframe tbody tr th {\n",
       "        vertical-align: top;\n",
       "    }\n",
       "\n",
       "    .dataframe thead th {\n",
       "        text-align: right;\n",
       "    }\n",
       "</style>\n",
       "<table border=\"1\" class=\"dataframe\">\n",
       "  <thead>\n",
       "    <tr style=\"text-align: right;\">\n",
       "      <th></th>\n",
       "      <th>expedition_id</th>\n",
       "      <th>member_id</th>\n",
       "      <th>success</th>\n",
       "      <th>year</th>\n",
       "      <th>season</th>\n",
       "      <th>age</th>\n",
       "      <th>expedition_role</th>\n",
       "      <th>oxygen_used</th>\n",
       "    </tr>\n",
       "  </thead>\n",
       "  <tbody>\n",
       "    <tr>\n",
       "      <th>0</th>\n",
       "      <td>AMAD81101</td>\n",
       "      <td>AMAD81101-03</td>\n",
       "      <td>True</td>\n",
       "      <td>1981</td>\n",
       "      <td>Spring</td>\n",
       "      <td>28</td>\n",
       "      <td>Climber</td>\n",
       "      <td>False</td>\n",
       "    </tr>\n",
       "    <tr>\n",
       "      <th>1</th>\n",
       "      <td>AMAD81101</td>\n",
       "      <td>AMAD81101-04</td>\n",
       "      <td>True</td>\n",
       "      <td>1981</td>\n",
       "      <td>Spring</td>\n",
       "      <td>27</td>\n",
       "      <td>Exp Doctor</td>\n",
       "      <td>False</td>\n",
       "    </tr>\n",
       "    <tr>\n",
       "      <th>2</th>\n",
       "      <td>AMAD81101</td>\n",
       "      <td>AMAD81101-02</td>\n",
       "      <td>True</td>\n",
       "      <td>1981</td>\n",
       "      <td>Spring</td>\n",
       "      <td>35</td>\n",
       "      <td>Deputy Leader</td>\n",
       "      <td>False</td>\n",
       "    </tr>\n",
       "    <tr>\n",
       "      <th>3</th>\n",
       "      <td>AMAD81101</td>\n",
       "      <td>AMAD81101-05</td>\n",
       "      <td>True</td>\n",
       "      <td>1981</td>\n",
       "      <td>Spring</td>\n",
       "      <td>37</td>\n",
       "      <td>Climber</td>\n",
       "      <td>False</td>\n",
       "    </tr>\n",
       "    <tr>\n",
       "      <th>4</th>\n",
       "      <td>AMAD81101</td>\n",
       "      <td>AMAD81101-06</td>\n",
       "      <td>True</td>\n",
       "      <td>1981</td>\n",
       "      <td>Spring</td>\n",
       "      <td>43</td>\n",
       "      <td>Climber</td>\n",
       "      <td>False</td>\n",
       "    </tr>\n",
       "  </tbody>\n",
       "</table>\n",
       "</div>"
      ],
      "text/plain": [
       "  expedition_id     member_id  success  year  season  age expedition_role  \\\n",
       "0     AMAD81101  AMAD81101-03     True  1981  Spring   28         Climber   \n",
       "1     AMAD81101  AMAD81101-04     True  1981  Spring   27      Exp Doctor   \n",
       "2     AMAD81101  AMAD81101-02     True  1981  Spring   35   Deputy Leader   \n",
       "3     AMAD81101  AMAD81101-05     True  1981  Spring   37         Climber   \n",
       "4     AMAD81101  AMAD81101-06     True  1981  Spring   43         Climber   \n",
       "\n",
       "   oxygen_used  \n",
       "0        False  \n",
       "1        False  \n",
       "2        False  \n",
       "3        False  \n",
       "4        False  "
      ]
     },
     "execution_count": 2,
     "metadata": {},
     "output_type": "execute_result"
    }
   ],
   "source": [
    "climbers = pd.read_csv(\"climbers.csv\")\n",
    "climbers.head()"
   ]
  },
  {
   "cell_type": "code",
   "execution_count": 15,
   "metadata": {},
   "outputs": [
    {
     "data": {
      "text/plain": [
       "2076"
      ]
     },
     "execution_count": 15,
     "metadata": {},
     "output_type": "execute_result"
    }
   ],
   "source": [
    "total = climbers.shape[0]\n",
    "total"
   ]
  },
  {
   "cell_type": "code",
   "execution_count": 17,
   "metadata": {},
   "outputs": [
    {
     "data": {
      "text/html": [
       "<div>\n",
       "<style scoped>\n",
       "    .dataframe tbody tr th:only-of-type {\n",
       "        vertical-align: middle;\n",
       "    }\n",
       "\n",
       "    .dataframe tbody tr th {\n",
       "        vertical-align: top;\n",
       "    }\n",
       "\n",
       "    .dataframe thead th {\n",
       "        text-align: right;\n",
       "    }\n",
       "</style>\n",
       "<table border=\"1\" class=\"dataframe\">\n",
       "  <thead>\n",
       "    <tr style=\"text-align: right;\">\n",
       "      <th></th>\n",
       "      <th>count</th>\n",
       "      <th>percent</th>\n",
       "    </tr>\n",
       "    <tr>\n",
       "      <th>success</th>\n",
       "      <th></th>\n",
       "      <th></th>\n",
       "    </tr>\n",
       "  </thead>\n",
       "  <tbody>\n",
       "    <tr>\n",
       "      <th>False</th>\n",
       "      <td>1269</td>\n",
       "      <td>0.611272</td>\n",
       "    </tr>\n",
       "    <tr>\n",
       "      <th>True</th>\n",
       "      <td>807</td>\n",
       "      <td>0.388728</td>\n",
       "    </tr>\n",
       "  </tbody>\n",
       "</table>\n",
       "</div>"
      ],
      "text/plain": [
       "         count   percent\n",
       "success                 \n",
       "False     1269  0.611272\n",
       "True       807  0.388728"
      ]
     },
     "execution_count": 17,
     "metadata": {},
     "output_type": "execute_result"
    }
   ],
   "source": [
    "climbers[['success','member_id']].groupby('success').count().assign(percent = lambda x: x.member_id/total).rename(columns = {'member_id':'count'})"
   ]
  },
  {
   "cell_type": "markdown",
   "metadata": {},
   "source": []
  }
 ],
 "metadata": {
  "kernelspec": {
   "display_name": "Python 3.7.13 ('BayesRules')",
   "language": "python",
   "name": "python3"
  },
  "language_info": {
   "codemirror_mode": {
    "name": "ipython",
    "version": 3
   },
   "file_extension": ".py",
   "mimetype": "text/x-python",
   "name": "python",
   "nbconvert_exporter": "python",
   "pygments_lexer": "ipython3",
   "version": "3.7.13"
  },
  "orig_nbformat": 4,
  "vscode": {
   "interpreter": {
    "hash": "535ddf886a860b39d22adffcd3d06703d2d6d18ab4f8a0bdf2913837e7909368"
   }
  }
 },
 "nbformat": 4,
 "nbformat_minor": 2
}
